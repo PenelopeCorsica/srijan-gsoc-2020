{
 "cells": [
  {
   "cell_type": "markdown",
   "metadata": {},
   "source": [
    "Refer - https://blog.openmined.org/what-is-pygrid-demo/"
   ]
  },
  {
   "cell_type": "code",
   "execution_count": 1,
   "metadata": {},
   "outputs": [],
   "source": [
    "import syft as sy\n",
    "\n",
    "#########<syft==0.2.8>#######################\n",
    "# Dynamic FL -->\n",
    "from syft.grid.clients.data_centric_fl_client import DataCentricFLClient\n",
    "\n",
    "#Static FL -->\n",
    "from syft.grid.clients.model_centric_fl_client import ModelCentricFLClient\n",
    "#############################################\n",
    "\n",
    "#########<syft==0.2.6>#######################\n",
    "# # Dynamic FL -->\n",
    "# from syft.grid.clients.dynamic_fl_client import DynamicFLClient\n",
    "\n",
    "# #Static FL -->\n",
    "# from syft.grid.clients.static_fl_client import StaticFLClient\n",
    "#############################################\n",
    "\n",
    "import torch as th\n",
    "import pickle\n",
    "import time\n",
    "import torchvision\n",
    "from torchvision import datasets, transforms\n",
    "import tqdm\n",
    "from ipywidgets import IntProgress"
   ]
  },
  {
   "cell_type": "code",
   "execution_count": 2,
   "metadata": {},
   "outputs": [],
   "source": [
    "# import syft as sy\n",
    "# import torch as th\n",
    "# from syft.workers.node_client import NodeClient\n",
    "# hook = sy.TorchHook(th)"
   ]
  },
  {
   "cell_type": "code",
   "execution_count": 3,
   "metadata": {},
   "outputs": [
    {
     "data": {
      "text/plain": [
       "(<Federated Worker id:h1>, <Federated Worker id:h2>)"
      ]
     },
     "execution_count": 3,
     "metadata": {},
     "output_type": "execute_result"
    }
   ],
   "source": [
    "hook = sy.TorchHook(th)\n",
    "h1 = DataCentricFLClient(hook, \"ws://0.0.0.0:3000\")\n",
    "h2 = DataCentricFLClient(hook, \"ws://0.0.0.0:3001\")\n",
    "h1, h2"
   ]
  },
  {
   "cell_type": "code",
   "execution_count": 4,
   "metadata": {},
   "outputs": [],
   "source": [
    "## HOSPITAL 1\n",
    "data_description1 = \"\"\"Description:\n",
    "                        This dataset represents the birth records for the month of February.\n",
    "                        The data is arranged in the following format:\n",
    "                        \n",
    "                        Columns:\n",
    "                            Gender: 0-Male, 1-Female\n",
    "                            Weight (Kilograms): Float value\n",
    "                            Height (centimeters): Float value\n",
    "                            \n",
    "                        Shape: (5 X 3)\"\"\"\n",
    "\n",
    "records1 = th.tensor(\n",
    "[\n",
    "    [1,3.5,47.3],\n",
    "    [0,3.7,48.1],\n",
    "    [0,3.9,50.0],\n",
    "    [1,4.1,52.3],\n",
    "    [0,4.1,49.7]\n",
    "]                                                     \n",
    ")"
   ]
  },
  {
   "cell_type": "code",
   "execution_count": 5,
   "metadata": {},
   "outputs": [],
   "source": [
    "## HOSPITAL 2\n",
    "data_description2 = \"\"\"Description:\n",
    "                        This dataset represents data for diabetes patients.\n",
    "                        The data is arranged in the following format:\n",
    "                        \n",
    "                        Columns:\n",
    "                            Gender: 0-Male, 1-Female\n",
    "                            Weight (Kilograms): Float value\n",
    "                            Height (centimeters): Float value\n",
    "                            \n",
    "                        Shape: (5 X 3)\"\"\"\n",
    "\n",
    "records2 = th.tensor(\n",
    "[\n",
    "    [1,3.5,47.3],\n",
    "    [0,3.7,48.1],\n",
    "    [0,3.9,50.0]\n",
    "]                                                     \n",
    ")"
   ]
  },
  {
   "cell_type": "code",
   "execution_count": 6,
   "metadata": {},
   "outputs": [],
   "source": [
    "# private_dataset = monthly_birth_records.private_tensor(allowed_users=(\"Bob\", \n",
    "#                                                                     \"Ana\",\n",
    "#                                                                     \"Andy\"))"
   ]
  },
  {
   "cell_type": "code",
   "execution_count": 7,
   "metadata": {},
   "outputs": [
    {
     "data": {
      "text/plain": [
       "(tensor([[ 1.0000,  3.5000, 47.3000],\n",
       "         [ 0.0000,  3.7000, 48.1000],\n",
       "         [ 0.0000,  3.9000, 50.0000],\n",
       "         [ 1.0000,  4.1000, 52.3000],\n",
       "         [ 0.0000,  4.1000, 49.7000]])\n",
       " \tTags: #birth-records #age-related \n",
       " \tDescription: Description:...\n",
       " \tShape: torch.Size([5, 3]),\n",
       " tensor([[ 1.0000,  3.5000, 47.3000],\n",
       "         [ 0.0000,  3.7000, 48.1000],\n",
       "         [ 0.0000,  3.9000, 50.0000]])\n",
       " \tTags: #diabetes #age-related \n",
       " \tDescription: Description:...\n",
       " \tShape: torch.Size([3, 3]))"
      ]
     },
     "execution_count": 7,
     "metadata": {},
     "output_type": "execute_result"
    }
   ],
   "source": [
    "private_dataset1 = records1.tag(\"#age-related\",\n",
    "                                     \"#birth-records\").describe(data_description1)\n",
    "\n",
    "private_dataset2 = records2.tag(\"#age-related\",\n",
    "                                     \"#diabetes\").describe(data_description2)\n",
    "private_dataset1, private_dataset2"
   ]
  },
  {
   "cell_type": "code",
   "execution_count": 8,
   "metadata": {},
   "outputs": [
    {
     "data": {
      "text/plain": [
       "((Wrapper)>[PointerTensor | me:12047874717 -> h1:47483362958]\n",
       " \tTags: #birth-records #age-related \n",
       " \tShape: torch.Size([5, 3])\n",
       " \tDescription: Description:...,\n",
       " (Wrapper)>[PointerTensor | me:69188367535 -> h2:24017705676]\n",
       " \tTags: #diabetes #age-related \n",
       " \tShape: torch.Size([3, 3])\n",
       " \tDescription: Description:...)"
      ]
     },
     "execution_count": 8,
     "metadata": {},
     "output_type": "execute_result"
    }
   ],
   "source": [
    "data_pointer1 = private_dataset1.send(h1)\n",
    "data_pointer2 = private_dataset2.send(h2)\n",
    "data_pointer1, data_pointer2"
   ]
  },
  {
   "cell_type": "markdown",
   "metadata": {},
   "source": [
    "<h2>Disconnect nodes</h2>"
   ]
  },
  {
   "cell_type": "code",
   "execution_count": 9,
   "metadata": {},
   "outputs": [],
   "source": [
    "h1.close()\n",
    "h2.close()"
   ]
  },
  {
   "cell_type": "code",
   "execution_count": null,
   "metadata": {},
   "outputs": [],
   "source": []
  }
 ],
 "metadata": {
  "kernelspec": {
   "display_name": "Python [conda env:pysyft]",
   "language": "python",
   "name": "conda-env-pysyft-py"
  },
  "language_info": {
   "codemirror_mode": {
    "name": "ipython",
    "version": 3
   },
   "file_extension": ".py",
   "mimetype": "text/x-python",
   "name": "python",
   "nbconvert_exporter": "python",
   "pygments_lexer": "ipython3",
   "version": "3.7.4"
  }
 },
 "nbformat": 4,
 "nbformat_minor": 2
}
