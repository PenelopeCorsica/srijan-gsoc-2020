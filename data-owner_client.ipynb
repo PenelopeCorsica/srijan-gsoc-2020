{
 "cells": [
  {
   "cell_type": "markdown",
   "metadata": {},
   "source": [
    "Refer - https://blog.openmined.org/what-is-pygrid-demo/"
   ]
  },
  {
   "cell_type": "code",
   "execution_count": null,
   "metadata": {},
   "outputs": [],
   "source": []
  },
  {
   "cell_type": "code",
   "execution_count": 1,
   "metadata": {},
   "outputs": [],
   "source": [
    "import syft as sy\n",
    "import torch as th\n",
    "from syft.workers.node_client import NodeClient\n",
    "hook = sy.TorchHook(th)"
   ]
  },
  {
   "cell_type": "code",
   "execution_count": 3,
   "metadata": {},
   "outputs": [],
   "source": [
    "h1 = NodeClient(hook, \"ws://0.0.0.0:3000\")\n",
    "h2 = NodeClient(hook, \"ws://0.0.0.0:3001\")\n",
    "h1, h2"
   ]
  },
  {
   "cell_type": "code",
   "execution_count": null,
   "metadata": {},
   "outputs": [],
   "source": [
    "## HOSPITAL 1\n",
    "data_description1 = \"\"\"Description:\n",
    "                        This dataset represents the birth records for the month of February.\n",
    "                        The data is arranged in the following format:\n",
    "                        \n",
    "                        Columns:\n",
    "                            Gender: 0-Male, 1-Female\n",
    "                            Weight (Kilograms): Float value\n",
    "                            Height (centimeters): Float value\n",
    "                            \n",
    "                        Shape: (5 X 3)\"\"\"\n",
    "\n",
    "records1 = th.tensor(\n",
    "[\n",
    "    [1,3.5,47.3],\n",
    "    [0,3.7,48.1],\n",
    "    [0,3.9,50.0],\n",
    "    [1,4.1,52.3],\n",
    "    [0,4.1,49.7]\n",
    "]                                                     \n",
    ")"
   ]
  },
  {
   "cell_type": "code",
   "execution_count": null,
   "metadata": {},
   "outputs": [],
   "source": [
    "## HOSPITAL 2\n",
    "data_description2 = \"\"\"Description:\n",
    "                        This dataset represents data for diabetes patients.\n",
    "                        The data is arranged in the following format:\n",
    "                        \n",
    "                        Columns:\n",
    "                            Gender: 0-Male, 1-Female\n",
    "                            Weight (Kilograms): Float value\n",
    "                            Height (centimeters): Float value\n",
    "                            \n",
    "                        Shape: (5 X 3)\"\"\"\n",
    "\n",
    "records2 = th.tensor(\n",
    "[\n",
    "    [1,3.5,47.3],\n",
    "    [0,3.7,48.1],\n",
    "    [0,3.9,50.0]\n",
    "]                                                     \n",
    ")"
   ]
  },
  {
   "cell_type": "code",
   "execution_count": null,
   "metadata": {},
   "outputs": [],
   "source": [
    "# private_dataset = monthly_birth_records.private_tensor(allowed_users=(\"Bob\", \n",
    "#                                                                     \"Ana\",\n",
    "#                                                                     \"Andy\"))"
   ]
  },
  {
   "cell_type": "code",
   "execution_count": null,
   "metadata": {},
   "outputs": [],
   "source": [
    "private_dataset1 = records1.tag(\"#age-related\",\n",
    "                                     \"#birth-records\").describe(data_description1)\n",
    "\n",
    "private_dataset2 = records2.tag(\"#age-related\",\n",
    "                                     \"#diabetes\").describe(data_description2)\n",
    "private_dataset1, private_dataset2"
   ]
  },
  {
   "cell_type": "code",
   "execution_count": null,
   "metadata": {},
   "outputs": [],
   "source": [
    "data_pointer1 = private_dataset1.send(h1)\n",
    "data_pointer2 = private_dataset2.send(h2)\n",
    "data_pointer1, data_pointer2"
   ]
  },
  {
   "cell_type": "code",
   "execution_count": null,
   "metadata": {},
   "outputs": [],
   "source": []
  }
 ],
 "metadata": {
  "kernelspec": {
   "display_name": "Python [conda env:openmined]",
   "language": "python",
   "name": "conda-env-openmined-py"
  },
  "language_info": {
   "codemirror_mode": {
    "name": "ipython",
    "version": 3
   },
   "file_extension": ".py",
   "mimetype": "text/x-python",
   "name": "python",
   "nbconvert_exporter": "python",
   "pygments_lexer": "ipython3",
   "version": "3.7.6"
  }
 },
 "nbformat": 4,
 "nbformat_minor": 2
}
