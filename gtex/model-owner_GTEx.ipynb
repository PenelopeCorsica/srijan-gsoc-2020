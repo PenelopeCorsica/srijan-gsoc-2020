{
 "cells": [
  {
   "cell_type": "markdown",
   "metadata": {},
   "source": [
    "<h1>Federated Learning - GTEx_V8 Example</h1>\n",
    "<h2>Populate remote PyGrid nodes with labeled tensors </h2>\n",
    "In this notebook, we will train a model using federated approach.\n",
    "\n",
    "**NOTE:** At the time of running this notebook, we were running the grid components in background mode.  \n",
    "\n",
    "Components:\n",
    " - PyGrid Network (http://localhost:5000)\n",
    " - PyGrid Node h1 (http://localhost:3000)\n",
    " - PyGrid Node h2 (http://localhost:3001)\n",
    " \n",
    "Code implementation for this notebook has been referred from <a href=\"https://github.com/OpenMined/PySyft/blob/master/examples/tutorials/grid/federated_learning/mnist/Fed.Learning%20MNIST%20%5B%20Part-2%20%5D%20-%20Train%20a%20Model.ipynb\">Fed.Learning MNIST [ Part-2 ] - Train a Model</a> tutorial"
   ]
  },
  {
   "cell_type": "code",
   "execution_count": 34,
   "metadata": {},
   "outputs": [],
   "source": [
    "import syft as sy\n",
    "from syft.grid.public_grid import PublicGridNetwork\n",
    "import torch as th\n",
    "import torch.nn as nn\n",
    "import torch.optim as optim\n",
    "import torch.nn.functional as F"
   ]
  },
  {
   "cell_type": "code",
   "execution_count": 35,
   "metadata": {},
   "outputs": [
    {
     "name": "stderr",
     "output_type": "stream",
     "text": [
      "WARNING:root:Torch was already hooked... skipping hooking process\n"
     ]
    }
   ],
   "source": [
    "hook = sy.TorchHook(th)\n",
    "class Net(nn.Module):\n",
    "    def __init__(self):\n",
    "        super(Net, self).__init__()\n",
    "        \n",
    "        self.fc1 = nn.Linear(18420, 256)\n",
    "        self.fc2 = nn.Linear(256, 128)\n",
    "        self.fc3 = nn.Linear(128, 64)\n",
    "        self.fc4 = nn.Linear(64, 6)\n",
    "\n",
    "    def forward(self, x):\n",
    "        # make sure input tensor is flattened\n",
    "        x = x.view(x.shape[0], -1)\n",
    "        \n",
    "        x = F.relu(self.fc1(x))\n",
    "        x = F.relu(self.fc2(x))\n",
    "        x = F.relu(self.fc3(x))\n",
    "        x = F.log_softmax(self.fc4(x), dim=1)\n",
    "        return x\n",
    "\n",
    "\n",
    "device = th.device(\"cuda:0\" if th.cuda.is_available() else \"cpu\")\n",
    "\n",
    "if(th.cuda.is_available()):\n",
    "    th.set_default_tensor_type(th.cuda.FloatTensor)\n",
    "    \n",
    "# model = Net()\n",
    "# model.to(device)\n",
    "# optimizer = optim.SGD(model.parameters(), lr=0.01)\n",
    "# criterion = nn.CrossEntropyLoss()\n",
    "\n",
    "model = Net()\n",
    "model.to(device)\n",
    "optimizer = optim.SGD(model.parameters(), lr=0.01)\n",
    "criterion = nn.CrossEntropyLoss()"
   ]
  },
  {
   "cell_type": "code",
   "execution_count": 36,
   "metadata": {},
   "outputs": [],
   "source": [
    "GRID_ADDRESS = 'localhost'\n",
    "GRID_PORT = '5000'\n",
    "\n",
    "my_grid = PublicGridNetwork(hook,\"http://\" + GRID_ADDRESS + \":\" + GRID_PORT)"
   ]
  },
  {
   "cell_type": "code",
   "execution_count": 37,
   "metadata": {},
   "outputs": [],
   "source": [
    "data = my_grid.search(\"#X\", \"#gtex_v8\", \"#dataset\")\n",
    "target = my_grid.search(\"#Y\", \"#gtex_v8\", \"#dataset\")"
   ]
  },
  {
   "cell_type": "code",
   "execution_count": 38,
   "metadata": {},
   "outputs": [
    {
     "data": {
      "text/plain": [
       "{'h1': [(Wrapper)>[PointerTensor | me:93469325155 -> h1:6072499217]\n",
       "  \tTags: #balanced #dataset #gtex_v8 #X \n",
       "  \tShape: torch.Size([600, 18420])\n",
       "  \tDescription: The input datapoints to the GTEx_V8 dataset....],\n",
       " 'h2': [(Wrapper)>[PointerTensor | me:84007623869 -> h2:62422029600]\n",
       "  \tTags: #balanced #gtex_v8 #X #dataset \n",
       "  \tShape: torch.Size([600, 18420])\n",
       "  \tDescription: The input datapoints to the GTEx_V8 dataset....]}"
      ]
     },
     "execution_count": 38,
     "metadata": {},
     "output_type": "execute_result"
    }
   ],
   "source": [
    "data"
   ]
  },
  {
   "cell_type": "code",
   "execution_count": 39,
   "metadata": {},
   "outputs": [
    {
     "data": {
      "text/plain": [
       "{'h1': [(Wrapper)>[PointerTensor | me:29868727086 -> h1:55841676130]\n",
       "  \tTags: #balanced #dataset #Y #gtex_v8 \n",
       "  \tShape: torch.Size([600])\n",
       "  \tDescription: The input labels to the GTEx_V8 dataset....],\n",
       " 'h2': [(Wrapper)>[PointerTensor | me:55464176909 -> h2:46460376007]\n",
       "  \tTags: #balanced #gtex_v8 #Y #dataset \n",
       "  \tShape: torch.Size([600])\n",
       "  \tDescription: The input labels to the GTEx_V8 dataset....]}"
      ]
     },
     "execution_count": 39,
     "metadata": {},
     "output_type": "execute_result"
    }
   ],
   "source": [
    "target"
   ]
  },
  {
   "cell_type": "code",
   "execution_count": 40,
   "metadata": {},
   "outputs": [],
   "source": [
    "data = list(data.values())\n",
    "target = list(target.values())"
   ]
  },
  {
   "cell_type": "code",
   "execution_count": 41,
   "metadata": {},
   "outputs": [
    {
     "data": {
      "text/plain": [
       "(1, 600)"
      ]
     },
     "execution_count": 41,
     "metadata": {},
     "output_type": "execute_result"
    }
   ],
   "source": [
    "len(data[1]), len(data[0][0])"
   ]
  },
  {
   "cell_type": "code",
   "execution_count": 42,
   "metadata": {},
   "outputs": [],
   "source": [
    "def epoch_total_size(data):\n",
    "    total = 0\n",
    "    for i in range(len(data)):\n",
    "        for j in range(len(data[i])):\n",
    "            total += data[i][j].shape[0]\n",
    "            \n",
    "    return total"
   ]
  },
  {
   "cell_type": "code",
   "execution_count": 43,
   "metadata": {},
   "outputs": [
    {
     "name": "stdout",
     "output_type": "stream",
     "text": [
      "STEP 1\n",
      "STEP 2\n",
      "STEP 3\n",
      "STEP 4\n",
      "STEP 5\n",
      "STEP 6\n",
      "STEP 7\n",
      "STEP 8\n",
      "STEP 9\n",
      "Train Epoch: 0 | With h1 data |: [600/1200 (50%)]\tLoss: 1.794744\n",
      "STEP 1\n",
      "STEP 2\n",
      "STEP 3\n",
      "STEP 4\n",
      "STEP 5\n",
      "STEP 6\n",
      "STEP 7\n",
      "STEP 8\n",
      "STEP 9\n",
      "Train Epoch: 0 | With h2 data |: [1200/1200 (100%)]\tLoss: 1.794738\n",
      "STEP 1\n",
      "STEP 2\n",
      "STEP 3\n",
      "STEP 4\n",
      "STEP 5\n",
      "STEP 6\n",
      "STEP 7\n",
      "STEP 8\n",
      "STEP 9\n",
      "Train Epoch: 1 | With h1 data |: [600/1200 (50%)]\tLoss: 1.794675\n",
      "STEP 1\n",
      "STEP 2\n",
      "STEP 3\n",
      "STEP 4\n",
      "STEP 5\n",
      "STEP 6\n",
      "STEP 7\n",
      "STEP 8\n",
      "STEP 9\n",
      "Train Epoch: 1 | With h2 data |: [1200/1200 (100%)]\tLoss: 1.794678\n",
      "STEP 1\n",
      "STEP 2\n",
      "STEP 3\n",
      "STEP 4\n",
      "STEP 5\n",
      "STEP 6\n",
      "STEP 7\n",
      "STEP 8\n",
      "STEP 9\n",
      "Train Epoch: 2 | With h1 data |: [600/1200 (50%)]\tLoss: 1.794609\n",
      "STEP 1\n",
      "STEP 2\n",
      "STEP 3\n",
      "STEP 4\n",
      "STEP 5\n",
      "STEP 6\n",
      "STEP 7\n",
      "STEP 8\n",
      "STEP 9\n",
      "Train Epoch: 2 | With h2 data |: [1200/1200 (100%)]\tLoss: 1.794618\n"
     ]
    }
   ],
   "source": [
    "N_EPOCS = 3\n",
    "SAVE_MODEL = True\n",
    "SAVE_MODEL_PATH = './models'\n",
    "\n",
    "def train(epoch):\n",
    "    model.train()\n",
    "    epoch_total = epoch_total_size(data)\n",
    "    current_epoch_size = 0\n",
    "    for i in range(len(data)):\n",
    "        for j in range(len(data[i])):\n",
    "            current_epoch_size += len(data[i][j])\n",
    "            print('STEP 1')\n",
    "            worker = data[i][j].location\n",
    "            print('STEP 2')\n",
    "            model.send(worker)\n",
    "            print('STEP 3')\n",
    "            optimizer.zero_grad()\n",
    "            pred = model(data[i][j])\n",
    "            print('STEP 4')\n",
    "            loss = criterion(pred, target[i][j])\n",
    "            print('STEP 5')\n",
    "            loss.backward()\n",
    "            print('STEP 6')\n",
    "            optimizer.step()\n",
    "            print('STEP 7')\n",
    "            model.get()\n",
    "            print('STEP 8')\n",
    "            loss = loss.get()\n",
    "            print('STEP 9')\n",
    "            print('Train Epoch: {} | With {} data |: [{}/{} ({:.0f}%)]\\tLoss: {:.6f}'.format(\n",
    "                      epoch, worker.id, current_epoch_size, epoch_total,\n",
    "                            100. *  current_epoch_size / epoch_total, loss.item()))\n",
    "\n",
    "for epoch in range(N_EPOCS):\n",
    "    train(epoch)"
   ]
  },
  {
   "cell_type": "code",
   "execution_count": null,
   "metadata": {},
   "outputs": [],
   "source": []
  }
 ],
 "metadata": {
  "kernelspec": {
   "display_name": "Python [conda env:pysyft2]",
   "language": "python",
   "name": "conda-env-pysyft2-py"
  },
  "language_info": {
   "codemirror_mode": {
    "name": "ipython",
    "version": 3
   },
   "file_extension": ".py",
   "mimetype": "text/x-python",
   "name": "python",
   "nbconvert_exporter": "python",
   "pygments_lexer": "ipython3",
   "version": "3.7.4"
  }
 },
 "nbformat": 4,
 "nbformat_minor": 2
}
