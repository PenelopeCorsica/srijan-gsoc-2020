{
 "cells": [
  {
   "cell_type": "markdown",
   "metadata": {},
   "source": [
    "Refer - https://blog.openmined.org/what-is-pygrid-demo/"
   ]
  },
  {
   "cell_type": "code",
   "execution_count": null,
   "metadata": {},
   "outputs": [],
   "source": []
  },
  {
   "cell_type": "code",
   "execution_count": 1,
   "metadata": {},
   "outputs": [],
   "source": [
    "import syft as sy\n",
    "import torch as th\n",
    "from syft.workers.node_client import NodeClient\n",
    "hook = sy.TorchHook(th)"
   ]
  },
  {
   "cell_type": "code",
   "execution_count": 2,
   "metadata": {},
   "outputs": [
    {
     "data": {
      "text/plain": [
       "<Federated Worker id:hospital-datacluster>"
      ]
     },
     "execution_count": 2,
     "metadata": {},
     "output_type": "execute_result"
    }
   ],
   "source": [
    "hospital_datacluster = NodeClient(hook, \"ws://localhost:3000\")\n",
    "hospital_datacluster"
   ]
  },
  {
   "cell_type": "code",
   "execution_count": 3,
   "metadata": {},
   "outputs": [],
   "source": [
    "data_description = \"\"\"Description:\n",
    "                        This dataset represents the birth records for the month of February.\n",
    "                        The data is arranged in the following format:\n",
    "                        \n",
    "                        Columns:\n",
    "                            Gender: 0-Male, 1-Female\n",
    "                            Weight (Kilograms): Float value\n",
    "                            Height (centimeters): Float value\n",
    "                            \n",
    "                        Shape: (5 X 3)\"\"\"\n",
    "\n",
    "monthly_birth_records = th.tensor(\n",
    "[\n",
    "    [1,3.5,47.3],\n",
    "    [0,3.7,48.1],\n",
    "    [0,3.9,50.0],\n",
    "    [1,4.1,52.3],\n",
    "    [0,4.1,49.7]\n",
    "]                                                     \n",
    ")"
   ]
  },
  {
   "cell_type": "code",
   "execution_count": 4,
   "metadata": {},
   "outputs": [],
   "source": [
    "private_dataset = monthly_birth_records.private_tensor(allowed_users=(\"Bob\", \n",
    "                                                                    \"Ana\",\n",
    "                                                                    \"Andy\"))"
   ]
  },
  {
   "cell_type": "code",
   "execution_count": 5,
   "metadata": {},
   "outputs": [
    {
     "data": {
      "text/plain": [
       "(Wrapper)>PrivateTensor>tensor([[ 1.0000,  3.5000, 47.3000],\n",
       "        [ 0.0000,  3.7000, 48.1000],\n",
       "        [ 0.0000,  3.9000, 50.0000],\n",
       "        [ 1.0000,  4.1000, 52.3000],\n",
       "        [ 0.0000,  4.1000, 49.7000]])"
      ]
     },
     "execution_count": 5,
     "metadata": {},
     "output_type": "execute_result"
    }
   ],
   "source": [
    "private_dataset = private_dataset.tag(\"#February\",\n",
    "                                     \"#birth-records\").describe(data_description)\n",
    "private_dataset"
   ]
  },
  {
   "cell_type": "code",
   "execution_count": 6,
   "metadata": {},
   "outputs": [
    {
     "data": {
      "text/plain": [
       "(Wrapper)>[PointerTensor | me:93506153305 -> hospital-datacluster:73179278163]\n",
       "\tTags: #February #birth-records \n",
       "\tShape: torch.Size([5, 3])\n",
       "\tDescription: Description:..."
      ]
     },
     "execution_count": 6,
     "metadata": {},
     "output_type": "execute_result"
    }
   ],
   "source": [
    "data_pointer = private_dataset.send(hospital_datacluster,user=\"Bob\")\n",
    "data_pointer"
   ]
  },
  {
   "cell_type": "code",
   "execution_count": null,
   "metadata": {},
   "outputs": [],
   "source": []
  }
 ],
 "metadata": {
  "kernelspec": {
   "display_name": "Python [conda env:openmined]",
   "language": "python",
   "name": "conda-env-openmined-py"
  },
  "language_info": {
   "codemirror_mode": {
    "name": "ipython",
    "version": 3
   },
   "file_extension": ".py",
   "mimetype": "text/x-python",
   "name": "python",
   "nbconvert_exporter": "python",
   "pygments_lexer": "ipython3",
   "version": "3.7.6"
  }
 },
 "nbformat": 4,
 "nbformat_minor": 2
}
