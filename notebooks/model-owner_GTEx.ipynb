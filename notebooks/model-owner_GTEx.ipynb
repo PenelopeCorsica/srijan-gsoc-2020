{
 "cells": [
  {
   "cell_type": "markdown",
   "metadata": {},
   "source": [
    "<h1>Federated Learning - GTEx_V8 Example</h1>\n",
    "<h2>Populate remote PyGrid nodes with labeled tensors </h2>\n",
    "In this notebook, we will train a model using federated approach.\n",
    "\n",
    "**NOTE:** At the time of running this notebook, we were running the grid components in background mode.  \n",
    "\n",
    "Components:\n",
    " - PyGrid Network (http://localhost:5000)\n",
    " - PyGrid Node h1 (http://localhost:3000)\n",
    " - PyGrid Node h2 (http://localhost:3001)\n",
    " \n",
    "Code implementation for this notebook has been referred from <a href=\"https://github.com/OpenMined/PySyft/blob/master/examples/tutorials/grid/federated_learning/mnist/Fed.Learning%20MNIST%20%5B%20Part-2%20%5D%20-%20Train%20a%20Model.ipynb\">Fed.Learning MNIST [ Part-2 ] - Train a Model</a> tutorial"
   ]
  },
  {
   "cell_type": "code",
   "execution_count": 1,
   "metadata": {},
   "outputs": [],
   "source": [
    "import syft as sy\n",
    "from syft.grid.public_grid import PublicGridNetwork\n",
    "import torch as th\n",
    "import torch.nn as nn\n",
    "import torch.optim as optim\n",
    "import torch.nn.functional as F\n",
    "import torch\n",
    "from syft.federated.floptimizer import Optims"
   ]
  },
  {
   "cell_type": "code",
   "execution_count": 2,
   "metadata": {},
   "outputs": [],
   "source": [
    "hook = sy.TorchHook(th)"
   ]
  },
  {
   "cell_type": "code",
   "execution_count": 3,
   "metadata": {},
   "outputs": [],
   "source": [
    "\n",
    "class Net(nn.Module):\n",
    "    def __init__(self):\n",
    "        super(Net, self).__init__()\n",
    "        \n",
    "        self.fc1 = nn.Linear(18420, 256)\n",
    "        self.fc2 = nn.Linear(256, 128)\n",
    "        self.fc3 = nn.Linear(128, 64)\n",
    "        self.fc4 = nn.Linear(64, 6)\n",
    "\n",
    "    def forward(self, x):\n",
    "        # make sure input tensor is flattened\n",
    "        x = x.view(x.shape[0], -1)\n",
    "        \n",
    "        x = F.relu(self.fc1(x))\n",
    "        x = F.relu(self.fc2(x))\n",
    "        x = F.relu(self.fc3(x))\n",
    "        x = F.softmax(self.fc4(x), dim=1)\n",
    "        return x\n",
    "\n",
    "\n",
    "device = th.device(\"cuda:0\" if th.cuda.is_available() else \"cpu\")\n",
    "\n",
    "if(th.cuda.is_available()):\n",
    "    th.set_default_tensor_type(th.cuda.FloatTensor)\n",
    "    \n",
    "# model = Net()\n",
    "# model.to(device)\n",
    "# optimizer = optim.SGD(model.parameters(), lr=0.01)\n",
    "# criterion = nn.CrossEntropyLoss()\n",
    "\n",
    "model = Net()\n",
    "model.to(device)\n",
    "workers = ['h1', 'h2']\n",
    "optims = Optims(workers, optim=optim.Adam(params=model.parameters(),lr=0.003))\n",
    "# criterion = nn.CrossEntropyLoss()"
   ]
  },
  {
   "cell_type": "code",
   "execution_count": 10,
   "metadata": {},
   "outputs": [],
   "source": [
    "GRID_ADDRESS = '0.0.0.0'\n",
    "GRID_PORT = '5000'\n",
    "\n",
    "my_grid = PublicGridNetwork(hook,\"http://\" + GRID_ADDRESS + \":\" + GRID_PORT)"
   ]
  },
  {
   "cell_type": "code",
   "execution_count": 11,
   "metadata": {},
   "outputs": [
    {
     "data": {
      "text/plain": [
       "<syft.grid.public_grid.PublicGridNetwork at 0x123246940>"
      ]
     },
     "execution_count": 11,
     "metadata": {},
     "output_type": "execute_result"
    }
   ],
   "source": [
    "my_grid"
   ]
  },
  {
   "cell_type": "code",
   "execution_count": 9,
   "metadata": {},
   "outputs": [
    {
     "ename": "WebSocketAddressException",
     "evalue": "[Errno 8] nodename nor servname provided, or not known",
     "output_type": "error",
     "traceback": [
      "\u001b[0;31m---------------------------------------------------------------------------\u001b[0m",
      "\u001b[0;31mgaierror\u001b[0m                                  Traceback (most recent call last)",
      "\u001b[0;32m~/anaconda3/envs/pysyft_v028/lib/python3.6/site-packages/websocket/_http.py\u001b[0m in \u001b[0;36m_get_addrinfo_list\u001b[0;34m(hostname, port, is_secure, proxy)\u001b[0m\n\u001b[1;32m    146\u001b[0m             addrinfo_list = socket.getaddrinfo(\n\u001b[0;32m--> 147\u001b[0;31m                 hostname, port, 0, socket.SOCK_STREAM, socket.SOL_TCP)\n\u001b[0m\u001b[1;32m    148\u001b[0m             \u001b[0;32mreturn\u001b[0m \u001b[0maddrinfo_list\u001b[0m\u001b[0;34m,\u001b[0m \u001b[0;32mFalse\u001b[0m\u001b[0;34m,\u001b[0m \u001b[0;32mNone\u001b[0m\u001b[0;34m\u001b[0m\u001b[0;34m\u001b[0m\u001b[0m\n",
      "\u001b[0;32m~/anaconda3/envs/pysyft_v028/lib/python3.6/socket.py\u001b[0m in \u001b[0;36mgetaddrinfo\u001b[0;34m(host, port, family, type, proto, flags)\u001b[0m\n\u001b[1;32m    744\u001b[0m     \u001b[0maddrlist\u001b[0m \u001b[0;34m=\u001b[0m \u001b[0;34m[\u001b[0m\u001b[0;34m]\u001b[0m\u001b[0;34m\u001b[0m\u001b[0;34m\u001b[0m\u001b[0m\n\u001b[0;32m--> 745\u001b[0;31m     \u001b[0;32mfor\u001b[0m \u001b[0mres\u001b[0m \u001b[0;32min\u001b[0m \u001b[0m_socket\u001b[0m\u001b[0;34m.\u001b[0m\u001b[0mgetaddrinfo\u001b[0m\u001b[0;34m(\u001b[0m\u001b[0mhost\u001b[0m\u001b[0;34m,\u001b[0m \u001b[0mport\u001b[0m\u001b[0;34m,\u001b[0m \u001b[0mfamily\u001b[0m\u001b[0;34m,\u001b[0m \u001b[0mtype\u001b[0m\u001b[0;34m,\u001b[0m \u001b[0mproto\u001b[0m\u001b[0;34m,\u001b[0m \u001b[0mflags\u001b[0m\u001b[0;34m)\u001b[0m\u001b[0;34m:\u001b[0m\u001b[0;34m\u001b[0m\u001b[0;34m\u001b[0m\u001b[0m\n\u001b[0m\u001b[1;32m    746\u001b[0m         \u001b[0maf\u001b[0m\u001b[0;34m,\u001b[0m \u001b[0msocktype\u001b[0m\u001b[0;34m,\u001b[0m \u001b[0mproto\u001b[0m\u001b[0;34m,\u001b[0m \u001b[0mcanonname\u001b[0m\u001b[0;34m,\u001b[0m \u001b[0msa\u001b[0m \u001b[0;34m=\u001b[0m \u001b[0mres\u001b[0m\u001b[0;34m\u001b[0m\u001b[0;34m\u001b[0m\u001b[0m\n",
      "\u001b[0;31mgaierror\u001b[0m: [Errno 8] nodename nor servname provided, or not known",
      "\nDuring handling of the above exception, another exception occurred:\n",
      "\u001b[0;31mWebSocketAddressException\u001b[0m                 Traceback (most recent call last)",
      "\u001b[0;32m<ipython-input-9-6c46408e6606>\u001b[0m in \u001b[0;36m<module>\u001b[0;34m\u001b[0m\n\u001b[0;32m----> 1\u001b[0;31m \u001b[0mdata\u001b[0m \u001b[0;34m=\u001b[0m \u001b[0mmy_grid\u001b[0m\u001b[0;34m.\u001b[0m\u001b[0msearch\u001b[0m\u001b[0;34m(\u001b[0m\u001b[0;34m\"#X\"\u001b[0m\u001b[0;34m,\u001b[0m \u001b[0;34m\"#gtex_v8\"\u001b[0m\u001b[0;34m,\u001b[0m \u001b[0;34m\"#dataset\"\u001b[0m\u001b[0;34m)\u001b[0m\u001b[0;34m\u001b[0m\u001b[0;34m\u001b[0m\u001b[0m\n\u001b[0m\u001b[1;32m      2\u001b[0m \u001b[0mtarget\u001b[0m \u001b[0;34m=\u001b[0m \u001b[0mmy_grid\u001b[0m\u001b[0;34m.\u001b[0m\u001b[0msearch\u001b[0m\u001b[0;34m(\u001b[0m\u001b[0;34m\"#Y\"\u001b[0m\u001b[0;34m,\u001b[0m \u001b[0;34m\"#gtex_v8\"\u001b[0m\u001b[0;34m,\u001b[0m \u001b[0;34m\"#dataset\"\u001b[0m\u001b[0;34m)\u001b[0m\u001b[0;34m\u001b[0m\u001b[0;34m\u001b[0m\u001b[0m\n",
      "\u001b[0;32m~/anaconda3/envs/pysyft_v028/lib/python3.6/site-packages/syft/grid/public_grid.py\u001b[0m in \u001b[0;36msearch\u001b[0;34m(self, *query)\u001b[0m\n\u001b[1;32m     37\u001b[0m         \u001b[0mtensor_results\u001b[0m \u001b[0;34m=\u001b[0m \u001b[0;34m{\u001b[0m\u001b[0;34m}\u001b[0m\u001b[0;34m\u001b[0m\u001b[0;34m\u001b[0m\u001b[0m\n\u001b[1;32m     38\u001b[0m         \u001b[0;32mfor\u001b[0m \u001b[0mnode_id\u001b[0m\u001b[0;34m,\u001b[0m \u001b[0mnode_url\u001b[0m \u001b[0;32min\u001b[0m \u001b[0mmatch_nodes\u001b[0m\u001b[0;34m:\u001b[0m\u001b[0;34m\u001b[0m\u001b[0;34m\u001b[0m\u001b[0m\n\u001b[0;32m---> 39\u001b[0;31m             \u001b[0mworker\u001b[0m \u001b[0;34m=\u001b[0m \u001b[0mself\u001b[0m\u001b[0;34m.\u001b[0m\u001b[0m__connect_with_node\u001b[0m\u001b[0;34m(\u001b[0m\u001b[0mnode_id\u001b[0m\u001b[0;34m,\u001b[0m \u001b[0mnode_url\u001b[0m\u001b[0;34m)\u001b[0m\u001b[0;34m\u001b[0m\u001b[0;34m\u001b[0m\u001b[0m\n\u001b[0m\u001b[1;32m     40\u001b[0m             \u001b[0mtensor_results\u001b[0m\u001b[0;34m[\u001b[0m\u001b[0mnode_id\u001b[0m\u001b[0;34m]\u001b[0m \u001b[0;34m=\u001b[0m \u001b[0mworker\u001b[0m\u001b[0;34m.\u001b[0m\u001b[0msearch\u001b[0m\u001b[0;34m(\u001b[0m\u001b[0mquery\u001b[0m\u001b[0;34m)\u001b[0m\u001b[0;34m\u001b[0m\u001b[0;34m\u001b[0m\u001b[0m\n\u001b[1;32m     41\u001b[0m         \u001b[0;32mreturn\u001b[0m \u001b[0mtensor_results\u001b[0m\u001b[0;34m\u001b[0m\u001b[0;34m\u001b[0m\u001b[0m\n",
      "\u001b[0;32m~/anaconda3/envs/pysyft_v028/lib/python3.6/site-packages/syft/grid/public_grid.py\u001b[0m in \u001b[0;36m__connect_with_node\u001b[0;34m(self, node_id, node_url)\u001b[0m\n\u001b[1;32m    287\u001b[0m     \u001b[0;32mdef\u001b[0m \u001b[0m__connect_with_node\u001b[0m\u001b[0;34m(\u001b[0m\u001b[0mself\u001b[0m\u001b[0;34m,\u001b[0m \u001b[0mnode_id\u001b[0m\u001b[0;34m,\u001b[0m \u001b[0mnode_url\u001b[0m\u001b[0;34m)\u001b[0m\u001b[0;34m:\u001b[0m\u001b[0;34m\u001b[0m\u001b[0;34m\u001b[0m\u001b[0m\n\u001b[1;32m    288\u001b[0m         \u001b[0;32mif\u001b[0m \u001b[0mnode_id\u001b[0m \u001b[0;32mnot\u001b[0m \u001b[0;32min\u001b[0m \u001b[0mself\u001b[0m\u001b[0;34m.\u001b[0m\u001b[0mhook\u001b[0m\u001b[0;34m.\u001b[0m\u001b[0mlocal_worker\u001b[0m\u001b[0;34m.\u001b[0m\u001b[0m_known_workers\u001b[0m\u001b[0;34m:\u001b[0m\u001b[0;34m\u001b[0m\u001b[0;34m\u001b[0m\u001b[0m\n\u001b[0;32m--> 289\u001b[0;31m             \u001b[0mworker\u001b[0m \u001b[0;34m=\u001b[0m \u001b[0mDataCentricFLClient\u001b[0m\u001b[0;34m(\u001b[0m\u001b[0mself\u001b[0m\u001b[0;34m.\u001b[0m\u001b[0mhook\u001b[0m\u001b[0;34m,\u001b[0m \u001b[0mnode_url\u001b[0m\u001b[0;34m)\u001b[0m\u001b[0;34m\u001b[0m\u001b[0;34m\u001b[0m\u001b[0m\n\u001b[0m\u001b[1;32m    290\u001b[0m         \u001b[0;32melse\u001b[0m\u001b[0;34m:\u001b[0m\u001b[0;34m\u001b[0m\u001b[0;34m\u001b[0m\u001b[0m\n\u001b[1;32m    291\u001b[0m             \u001b[0;31m# There is already a connection to this node\u001b[0m\u001b[0;34m\u001b[0m\u001b[0;34m\u001b[0m\u001b[0;34m\u001b[0m\u001b[0m\n",
      "\u001b[0;32m~/anaconda3/envs/pysyft_v028/lib/python3.6/site-packages/syft/grid/clients/data_centric_fl_client.py\u001b[0m in \u001b[0;36m__init__\u001b[0;34m(self, hook, address, id, is_client_worker, log_msgs, verbose, encoding, timeout)\u001b[0m\n\u001b[1;32m     64\u001b[0m             \u001b[0mverbose\u001b[0m\u001b[0;34m,\u001b[0m\u001b[0;34m\u001b[0m\u001b[0;34m\u001b[0m\u001b[0m\n\u001b[1;32m     65\u001b[0m             \u001b[0;32mNone\u001b[0m\u001b[0;34m,\u001b[0m  \u001b[0;31m# initial data\u001b[0m\u001b[0;34m\u001b[0m\u001b[0;34m\u001b[0m\u001b[0m\n\u001b[0;32m---> 66\u001b[0;31m             \u001b[0mtimeout\u001b[0m\u001b[0;34m,\u001b[0m\u001b[0;34m\u001b[0m\u001b[0;34m\u001b[0m\u001b[0m\n\u001b[0m\u001b[1;32m     67\u001b[0m         )\n\u001b[1;32m     68\u001b[0m \u001b[0;34m\u001b[0m\u001b[0m\n",
      "\u001b[0;32m~/anaconda3/envs/pysyft_v028/lib/python3.6/site-packages/syft/workers/websocket_client.py\u001b[0m in \u001b[0;36m__init__\u001b[0;34m(self, hook, host, port, secure, id, is_client_worker, log_msgs, verbose, data, timeout)\u001b[0m\n\u001b[1;32m     64\u001b[0m         \u001b[0mself\u001b[0m\u001b[0;34m.\u001b[0m\u001b[0msecure\u001b[0m \u001b[0;34m=\u001b[0m \u001b[0msecure\u001b[0m\u001b[0;34m\u001b[0m\u001b[0;34m\u001b[0m\u001b[0m\n\u001b[1;32m     65\u001b[0m         \u001b[0mself\u001b[0m\u001b[0;34m.\u001b[0m\u001b[0mws\u001b[0m \u001b[0;34m=\u001b[0m \u001b[0;32mNone\u001b[0m\u001b[0;34m\u001b[0m\u001b[0;34m\u001b[0m\u001b[0m\n\u001b[0;32m---> 66\u001b[0;31m         \u001b[0mself\u001b[0m\u001b[0;34m.\u001b[0m\u001b[0mconnect\u001b[0m\u001b[0;34m(\u001b[0m\u001b[0;34m)\u001b[0m\u001b[0;34m\u001b[0m\u001b[0;34m\u001b[0m\u001b[0m\n\u001b[0m\u001b[1;32m     67\u001b[0m \u001b[0;34m\u001b[0m\u001b[0m\n\u001b[1;32m     68\u001b[0m     \u001b[0;34m@\u001b[0m\u001b[0mproperty\u001b[0m\u001b[0;34m\u001b[0m\u001b[0;34m\u001b[0m\u001b[0m\n",
      "\u001b[0;32m~/anaconda3/envs/pysyft_v028/lib/python3.6/site-packages/syft/workers/websocket_client.py\u001b[0m in \u001b[0;36mconnect\u001b[0;34m(self)\u001b[0m\n\u001b[1;32m     76\u001b[0m             \u001b[0margs_\u001b[0m\u001b[0;34m[\u001b[0m\u001b[0;34m\"sslopt\"\u001b[0m\u001b[0;34m]\u001b[0m \u001b[0;34m=\u001b[0m \u001b[0;34m{\u001b[0m\u001b[0;34m\"cert_reqs\"\u001b[0m\u001b[0;34m:\u001b[0m \u001b[0mssl\u001b[0m\u001b[0;34m.\u001b[0m\u001b[0mCERT_NONE\u001b[0m\u001b[0;34m}\u001b[0m\u001b[0;34m\u001b[0m\u001b[0;34m\u001b[0m\u001b[0m\n\u001b[1;32m     77\u001b[0m \u001b[0;34m\u001b[0m\u001b[0m\n\u001b[0;32m---> 78\u001b[0;31m         \u001b[0mself\u001b[0m\u001b[0;34m.\u001b[0m\u001b[0mws\u001b[0m \u001b[0;34m=\u001b[0m \u001b[0mwebsocket\u001b[0m\u001b[0;34m.\u001b[0m\u001b[0mcreate_connection\u001b[0m\u001b[0;34m(\u001b[0m\u001b[0;34m**\u001b[0m\u001b[0margs_\u001b[0m\u001b[0;34m)\u001b[0m\u001b[0;34m\u001b[0m\u001b[0;34m\u001b[0m\u001b[0m\n\u001b[0m\u001b[1;32m     79\u001b[0m         \u001b[0mself\u001b[0m\u001b[0;34m.\u001b[0m\u001b[0m_log_msgs_remote\u001b[0m\u001b[0;34m(\u001b[0m\u001b[0mself\u001b[0m\u001b[0;34m.\u001b[0m\u001b[0mlog_msgs\u001b[0m\u001b[0;34m)\u001b[0m\u001b[0;34m\u001b[0m\u001b[0;34m\u001b[0m\u001b[0m\n\u001b[1;32m     80\u001b[0m \u001b[0;34m\u001b[0m\u001b[0m\n",
      "\u001b[0;32m~/anaconda3/envs/pysyft_v028/lib/python3.6/site-packages/websocket/_core.py\u001b[0m in \u001b[0;36mcreate_connection\u001b[0;34m(url, timeout, class_, **options)\u001b[0m\n\u001b[1;32m    513\u001b[0m                      skip_utf8_validation=skip_utf8_validation, **options)\n\u001b[1;32m    514\u001b[0m     \u001b[0mwebsock\u001b[0m\u001b[0;34m.\u001b[0m\u001b[0msettimeout\u001b[0m\u001b[0;34m(\u001b[0m\u001b[0mtimeout\u001b[0m \u001b[0;32mif\u001b[0m \u001b[0mtimeout\u001b[0m \u001b[0;32mis\u001b[0m \u001b[0;32mnot\u001b[0m \u001b[0;32mNone\u001b[0m \u001b[0;32melse\u001b[0m \u001b[0mgetdefaulttimeout\u001b[0m\u001b[0;34m(\u001b[0m\u001b[0;34m)\u001b[0m\u001b[0;34m)\u001b[0m\u001b[0;34m\u001b[0m\u001b[0;34m\u001b[0m\u001b[0m\n\u001b[0;32m--> 515\u001b[0;31m     \u001b[0mwebsock\u001b[0m\u001b[0;34m.\u001b[0m\u001b[0mconnect\u001b[0m\u001b[0;34m(\u001b[0m\u001b[0murl\u001b[0m\u001b[0;34m,\u001b[0m \u001b[0;34m**\u001b[0m\u001b[0moptions\u001b[0m\u001b[0;34m)\u001b[0m\u001b[0;34m\u001b[0m\u001b[0;34m\u001b[0m\u001b[0m\n\u001b[0m\u001b[1;32m    516\u001b[0m     \u001b[0;32mreturn\u001b[0m \u001b[0mwebsock\u001b[0m\u001b[0;34m\u001b[0m\u001b[0;34m\u001b[0m\u001b[0m\n",
      "\u001b[0;32m~/anaconda3/envs/pysyft_v028/lib/python3.6/site-packages/websocket/_core.py\u001b[0m in \u001b[0;36mconnect\u001b[0;34m(self, url, **options)\u001b[0m\n\u001b[1;32m    221\u001b[0m         \u001b[0mself\u001b[0m\u001b[0;34m.\u001b[0m\u001b[0msock_opt\u001b[0m\u001b[0;34m.\u001b[0m\u001b[0mtimeout\u001b[0m \u001b[0;34m=\u001b[0m \u001b[0moptions\u001b[0m\u001b[0;34m.\u001b[0m\u001b[0mget\u001b[0m\u001b[0;34m(\u001b[0m\u001b[0;34m'timeout'\u001b[0m\u001b[0;34m,\u001b[0m \u001b[0mself\u001b[0m\u001b[0;34m.\u001b[0m\u001b[0msock_opt\u001b[0m\u001b[0;34m.\u001b[0m\u001b[0mtimeout\u001b[0m\u001b[0;34m)\u001b[0m\u001b[0;34m\u001b[0m\u001b[0;34m\u001b[0m\u001b[0m\n\u001b[1;32m    222\u001b[0m         self.sock, addrs = connect(url, self.sock_opt, proxy_info(**options),\n\u001b[0;32m--> 223\u001b[0;31m                                    options.pop('socket', None))\n\u001b[0m\u001b[1;32m    224\u001b[0m \u001b[0;34m\u001b[0m\u001b[0m\n\u001b[1;32m    225\u001b[0m         \u001b[0;32mtry\u001b[0m\u001b[0;34m:\u001b[0m\u001b[0;34m\u001b[0m\u001b[0;34m\u001b[0m\u001b[0m\n",
      "\u001b[0;32m~/anaconda3/envs/pysyft_v028/lib/python3.6/site-packages/websocket/_http.py\u001b[0m in \u001b[0;36mconnect\u001b[0;34m(url, options, proxy, socket)\u001b[0m\n\u001b[1;32m    112\u001b[0m \u001b[0;34m\u001b[0m\u001b[0m\n\u001b[1;32m    113\u001b[0m     addrinfo_list, need_tunnel, auth = _get_addrinfo_list(\n\u001b[0;32m--> 114\u001b[0;31m         hostname, port, is_secure, proxy)\n\u001b[0m\u001b[1;32m    115\u001b[0m     \u001b[0;32mif\u001b[0m \u001b[0;32mnot\u001b[0m \u001b[0maddrinfo_list\u001b[0m\u001b[0;34m:\u001b[0m\u001b[0;34m\u001b[0m\u001b[0;34m\u001b[0m\u001b[0m\n\u001b[1;32m    116\u001b[0m         raise WebSocketException(\n",
      "\u001b[0;32m~/anaconda3/envs/pysyft_v028/lib/python3.6/site-packages/websocket/_http.py\u001b[0m in \u001b[0;36m_get_addrinfo_list\u001b[0;34m(hostname, port, is_secure, proxy)\u001b[0m\n\u001b[1;32m    156\u001b[0m             \u001b[0;32mreturn\u001b[0m \u001b[0maddrinfo_list\u001b[0m\u001b[0;34m,\u001b[0m \u001b[0;32mTrue\u001b[0m\u001b[0;34m,\u001b[0m \u001b[0mpauth\u001b[0m\u001b[0;34m\u001b[0m\u001b[0;34m\u001b[0m\u001b[0m\n\u001b[1;32m    157\u001b[0m     \u001b[0;32mexcept\u001b[0m \u001b[0msocket\u001b[0m\u001b[0;34m.\u001b[0m\u001b[0mgaierror\u001b[0m \u001b[0;32mas\u001b[0m \u001b[0me\u001b[0m\u001b[0;34m:\u001b[0m\u001b[0;34m\u001b[0m\u001b[0;34m\u001b[0m\u001b[0m\n\u001b[0;32m--> 158\u001b[0;31m         \u001b[0;32mraise\u001b[0m \u001b[0mWebSocketAddressException\u001b[0m\u001b[0;34m(\u001b[0m\u001b[0me\u001b[0m\u001b[0;34m)\u001b[0m\u001b[0;34m\u001b[0m\u001b[0;34m\u001b[0m\u001b[0m\n\u001b[0m\u001b[1;32m    159\u001b[0m \u001b[0;34m\u001b[0m\u001b[0m\n\u001b[1;32m    160\u001b[0m \u001b[0;34m\u001b[0m\u001b[0m\n",
      "\u001b[0;31mWebSocketAddressException\u001b[0m: [Errno 8] nodename nor servname provided, or not known"
     ]
    }
   ],
   "source": [
    "data = my_grid.search(\"#X\", \"#gtex_v8\", \"#dataset\")\n",
    "target = my_grid.search(\"#Y\", \"#gtex_v8\", \"#dataset\")"
   ]
  },
  {
   "cell_type": "code",
   "execution_count": 5,
   "metadata": {},
   "outputs": [
    {
     "data": {
      "text/plain": [
       "{'h1': [(Wrapper)>[PointerTensor | me:25230829813 -> h1:68916027534]\n",
       "  \tTags: #balanced #dataset #X #gtex_v8 \n",
       "  \tShape: torch.Size([600, 18420])\n",
       "  \tDescription: The input datapoints to the GTEx_V8 dataset....],\n",
       " 'h2': [(Wrapper)>[PointerTensor | me:82395927115 -> h2:65553518684]\n",
       "  \tTags: #balanced #dataset #X #gtex_v8 \n",
       "  \tShape: torch.Size([600, 18420])\n",
       "  \tDescription: The input datapoints to the GTEx_V8 dataset....]}"
      ]
     },
     "execution_count": 5,
     "metadata": {},
     "output_type": "execute_result"
    }
   ],
   "source": [
    "data"
   ]
  },
  {
   "cell_type": "code",
   "execution_count": 6,
   "metadata": {},
   "outputs": [
    {
     "data": {
      "text/plain": [
       "{'h1': [(Wrapper)>[PointerTensor | me:34294610467 -> h1:90128732267]\n",
       "  \tTags: #balanced #dataset #Y #gtex_v8 \n",
       "  \tShape: torch.Size([600])\n",
       "  \tDescription: The input labels to the GTEx_V8 dataset....],\n",
       " 'h2': [(Wrapper)>[PointerTensor | me:37330155315 -> h2:54435772264]\n",
       "  \tTags: #balanced #dataset #Y #gtex_v8 \n",
       "  \tShape: torch.Size([600])\n",
       "  \tDescription: The input labels to the GTEx_V8 dataset....]}"
      ]
     },
     "execution_count": 6,
     "metadata": {},
     "output_type": "execute_result"
    }
   ],
   "source": [
    "target"
   ]
  },
  {
   "cell_type": "code",
   "execution_count": 7,
   "metadata": {},
   "outputs": [],
   "source": [
    "data = list(data.values())\n",
    "target = list(target.values())"
   ]
  },
  {
   "cell_type": "code",
   "execution_count": 8,
   "metadata": {},
   "outputs": [
    {
     "data": {
      "text/plain": [
       "(1, 600)"
      ]
     },
     "execution_count": 8,
     "metadata": {},
     "output_type": "execute_result"
    }
   ],
   "source": [
    "len(data[1]), len(data[0][0])"
   ]
  },
  {
   "cell_type": "code",
   "execution_count": 9,
   "metadata": {},
   "outputs": [],
   "source": [
    "def epoch_total_size(data):\n",
    "    total = 0\n",
    "    for i in range(len(data)):\n",
    "        for j in range(len(data[i])):\n",
    "            total += data[i][j].shape[0]\n",
    "            \n",
    "    return total"
   ]
  },
  {
   "cell_type": "code",
   "execution_count": 10,
   "metadata": {},
   "outputs": [
    {
     "data": {
      "text/plain": [
       "(<Federated Worker id:h2>, <Federated Worker id:h1>)"
      ]
     },
     "execution_count": 10,
     "metadata": {},
     "output_type": "execute_result"
    }
   ],
   "source": [
    "data[0][0].location, data[1][0].location"
   ]
  },
  {
   "cell_type": "code",
   "execution_count": 17,
   "metadata": {},
   "outputs": [
    {
     "name": "stdout",
     "output_type": "stream",
     "text": [
      "Parameter containing:\n",
      "tensor([[-0.0006,  0.0007,  0.0060,  ..., -0.0064,  0.0012,  0.0039],\n",
      "        [-0.0015, -0.0016, -0.0029,  ..., -0.0045,  0.0056, -0.0009],\n",
      "        [-0.0011,  0.0044,  0.0034,  ...,  0.0007,  0.0053, -0.0048],\n",
      "        ...,\n",
      "        [-0.0065, -0.0069,  0.0043,  ...,  0.0015, -0.0049, -0.0058],\n",
      "        [ 0.0055,  0.0052,  0.0042,  ..., -0.0056, -0.0023, -0.0073],\n",
      "        [ 0.0059, -0.0003, -0.0027,  ...,  0.0013, -0.0032,  0.0062]],\n",
      "       requires_grad=True)\n",
      "Parameter containing:\n",
      "tensor([-6.0425e-03,  2.5743e-03,  6.4935e-04,  7.0794e-03,  7.2930e-03,\n",
      "         7.0440e-04,  2.0292e-03, -3.2833e-03, -5.3745e-03, -4.4893e-03,\n",
      "         6.8187e-03, -4.6901e-04,  5.0205e-03, -6.1943e-03,  3.2806e-03,\n",
      "        -6.9867e-03,  1.7376e-04, -5.4365e-03,  6.9954e-03, -8.9003e-04,\n",
      "         1.3306e-03, -3.2393e-03, -1.6036e-03, -3.1234e-03, -7.9654e-05,\n",
      "        -3.6956e-03,  3.1422e-03,  6.7546e-03,  7.1406e-03, -2.2791e-03,\n",
      "         1.7656e-04,  1.0005e-04, -5.2549e-03, -4.1361e-03, -4.6978e-03,\n",
      "        -3.7316e-03, -7.3593e-03, -4.5172e-04, -6.3567e-03,  4.5297e-03,\n",
      "         2.0989e-03,  6.9472e-03, -4.0663e-03,  5.9761e-03,  2.4632e-03,\n",
      "         1.6934e-03,  4.2398e-03, -6.8812e-03,  6.0242e-03,  6.1425e-03,\n",
      "        -6.3217e-03,  4.1657e-04, -2.6207e-03,  1.2988e-03,  1.0065e-03,\n",
      "         2.1305e-03, -4.4431e-03, -5.4546e-03, -4.9404e-04, -6.8395e-05,\n",
      "        -4.1455e-03,  4.5300e-03, -3.5865e-03, -1.1986e-04,  7.0858e-03,\n",
      "        -2.1876e-03, -2.5306e-03,  3.5512e-03, -1.2942e-03,  4.6519e-03,\n",
      "         3.9856e-04, -1.6963e-03,  1.9419e-03,  1.0720e-03, -4.4182e-03,\n",
      "         7.3764e-04, -3.3145e-03,  4.4877e-03,  6.4256e-03, -1.5187e-03,\n",
      "        -3.2530e-05, -4.5754e-03,  8.2117e-04, -5.3408e-03, -6.5943e-03,\n",
      "         2.8625e-03, -5.2536e-03, -5.6661e-03, -5.2533e-03, -3.5814e-03,\n",
      "        -5.1350e-03, -4.3159e-03,  6.2022e-03,  1.9957e-03,  6.5741e-03,\n",
      "         5.3910e-03, -1.6992e-03, -1.3468e-03, -1.1786e-03, -3.4914e-05,\n",
      "         4.9986e-03,  4.9133e-03, -2.0867e-03, -3.9329e-03, -2.9473e-03,\n",
      "         3.8179e-03,  7.1608e-03,  5.5093e-03, -2.8851e-03,  2.2953e-03,\n",
      "         6.2285e-03, -3.1454e-03,  6.9039e-03,  4.8929e-03, -4.8357e-03,\n",
      "         4.7505e-03, -4.5758e-04,  3.1434e-04, -2.1886e-03,  6.5299e-03,\n",
      "         6.8632e-03,  7.2605e-03, -4.3759e-03,  1.0224e-03,  6.1177e-04,\n",
      "         2.5798e-03,  2.8683e-03,  1.6674e-03,  3.1814e-03,  2.0550e-04,\n",
      "         2.4460e-03, -3.3855e-03,  2.1018e-03,  1.9746e-03, -3.7314e-03,\n",
      "         5.6605e-03,  3.2981e-03,  8.0946e-04,  2.3408e-03,  3.1340e-03,\n",
      "         4.5263e-03, -7.8356e-04,  5.7084e-03, -5.3582e-03, -4.8357e-03,\n",
      "         6.9345e-03, -5.3403e-03,  6.4830e-03, -5.7379e-04,  1.3339e-03,\n",
      "         5.2308e-03, -4.2338e-03,  1.7026e-03, -4.0522e-03, -5.4664e-03,\n",
      "         6.6274e-03, -6.3348e-03, -3.0504e-03, -3.4409e-03,  4.4056e-03,\n",
      "         2.0248e-03, -5.6232e-03,  3.2753e-03,  6.3285e-03,  2.4697e-03,\n",
      "         6.2017e-03,  6.1254e-03,  2.2816e-04,  6.8452e-03,  7.8262e-04,\n",
      "        -4.8730e-03,  1.7237e-03,  5.8404e-03, -4.9629e-04,  4.0579e-03,\n",
      "        -4.1314e-03,  5.8383e-03,  2.5050e-03,  1.3433e-03,  5.4770e-03,\n",
      "        -4.5932e-03,  3.9992e-03,  4.5621e-03, -6.0665e-04,  7.3491e-04,\n",
      "         2.7461e-03, -6.1318e-03, -5.0048e-03, -5.0911e-03,  3.2320e-03,\n",
      "         2.2458e-03,  3.8981e-03,  2.7508e-03, -6.6059e-03,  2.2780e-03,\n",
      "        -5.3183e-03,  1.0995e-03, -8.3296e-04, -7.2651e-03, -1.8496e-03,\n",
      "        -6.7388e-03,  1.2741e-03, -4.7784e-03,  7.3128e-03,  6.7565e-03,\n",
      "         4.2579e-03,  6.8824e-03,  6.9247e-04,  3.5075e-03, -1.2017e-03,\n",
      "         5.8237e-04,  1.6216e-03, -3.1836e-03,  2.4770e-03,  3.0260e-03,\n",
      "         2.0974e-03,  2.2616e-03, -2.4276e-04,  3.8270e-03, -9.2043e-06,\n",
      "        -6.0679e-03, -5.1410e-03, -7.2945e-03,  2.0790e-03,  5.2917e-03,\n",
      "         3.9612e-03, -3.7204e-03, -3.8955e-03, -3.0169e-03, -4.9671e-03,\n",
      "        -2.9507e-03, -5.3284e-03,  4.6816e-03, -7.3038e-03,  8.5249e-05,\n",
      "         3.4417e-03, -1.3013e-03,  6.6440e-03,  2.6678e-03,  2.2155e-03,\n",
      "        -6.3215e-03, -6.3536e-03,  4.4608e-03,  2.8308e-03, -1.4028e-03,\n",
      "        -5.1236e-03,  7.7846e-04, -8.3107e-04, -7.3043e-04,  6.0053e-04,\n",
      "        -6.7574e-04, -7.9020e-04,  6.3311e-03,  5.1642e-03, -1.6843e-03,\n",
      "        -5.7427e-03], requires_grad=True)\n",
      "Parameter containing:\n",
      "tensor([[ 0.0287, -0.0125, -0.0195,  ..., -0.0323, -0.0012, -0.0278],\n",
      "        [ 0.0278, -0.0570, -0.0343,  ...,  0.0252, -0.0258,  0.0054],\n",
      "        [ 0.0496, -0.0212, -0.0065,  ..., -0.0112,  0.0190,  0.0402],\n",
      "        ...,\n",
      "        [ 0.0147,  0.0154,  0.0098,  ..., -0.0408, -0.0602, -0.0413],\n",
      "        [-0.0140,  0.0158, -0.0509,  ..., -0.0375,  0.0063, -0.0432],\n",
      "        [ 0.0532, -0.0266, -0.0302,  ...,  0.0159,  0.0276,  0.0205]],\n",
      "       requires_grad=True)\n",
      "Parameter containing:\n",
      "tensor([-0.0180,  0.0220,  0.0042, -0.0283, -0.0620,  0.0091, -0.0063, -0.0403,\n",
      "         0.0290, -0.0214, -0.0553, -0.0206,  0.0412,  0.0078, -0.0223, -0.0325,\n",
      "        -0.0129, -0.0184,  0.0573,  0.0291, -0.0521,  0.0339,  0.0213,  0.0471,\n",
      "         0.0418,  0.0606, -0.0160,  0.0457,  0.0585, -0.0259, -0.0358,  0.0101,\n",
      "         0.0457, -0.0545, -0.0616, -0.0072,  0.0326, -0.0224,  0.0238, -0.0063,\n",
      "        -0.0196,  0.0458,  0.0075, -0.0476, -0.0030,  0.0216, -0.0435,  0.0278,\n",
      "        -0.0374,  0.0597, -0.0198, -0.0195, -0.0139,  0.0366, -0.0109,  0.0609,\n",
      "         0.0044, -0.0602,  0.0512, -0.0524,  0.0314,  0.0558, -0.0333,  0.0290,\n",
      "         0.0152, -0.0211,  0.0440, -0.0018, -0.0426,  0.0560,  0.0248,  0.0043,\n",
      "        -0.0116,  0.0250, -0.0484,  0.0114,  0.0065, -0.0583,  0.0548,  0.0617,\n",
      "        -0.0006, -0.0288,  0.0178, -0.0060, -0.0325,  0.0623,  0.0162,  0.0269,\n",
      "        -0.0599,  0.0079, -0.0041, -0.0319,  0.0011,  0.0583, -0.0322,  0.0008,\n",
      "         0.0623, -0.0392, -0.0574, -0.0504,  0.0293, -0.0249,  0.0159,  0.0212,\n",
      "        -0.0382, -0.0520,  0.0200, -0.0051, -0.0264, -0.0333, -0.0530,  0.0340,\n",
      "        -0.0017,  0.0209, -0.0487,  0.0495,  0.0612, -0.0333,  0.0492, -0.0598,\n",
      "        -0.0265,  0.0577,  0.0367, -0.0270,  0.0196,  0.0462,  0.0441, -0.0186],\n",
      "       requires_grad=True)\n",
      "Parameter containing:\n",
      "tensor([[ 0.0813, -0.0809, -0.0581,  ..., -0.0767, -0.0816, -0.0478],\n",
      "        [-0.0248, -0.0297,  0.0577,  ...,  0.0039, -0.0155, -0.0306],\n",
      "        [ 0.0532, -0.0359,  0.0855,  ..., -0.0306,  0.0751, -0.0499],\n",
      "        ...,\n",
      "        [-0.0509,  0.0589, -0.0128,  ..., -0.0737, -0.0604,  0.0191],\n",
      "        [ 0.0763,  0.0214, -0.0164,  ...,  0.0676, -0.0706, -0.0248],\n",
      "        [-0.0384, -0.0319, -0.0709,  ..., -0.0207, -0.0297,  0.0605]],\n",
      "       requires_grad=True)\n",
      "Parameter containing:\n",
      "tensor([-0.0807,  0.0692,  0.0113,  0.0684,  0.0013,  0.0545,  0.0562, -0.0714,\n",
      "         0.0608,  0.0261, -0.0153,  0.0271,  0.0797,  0.0641,  0.0278, -0.0360,\n",
      "         0.0054, -0.0715,  0.0559, -0.0686, -0.0309, -0.0474,  0.0726, -0.0077,\n",
      "         0.0363, -0.0252, -0.0131, -0.0056, -0.0561,  0.0847,  0.0550, -0.0666,\n",
      "        -0.0692,  0.0355,  0.0514, -0.0665, -0.0276,  0.0739,  0.0155,  0.0182,\n",
      "        -0.0344,  0.0842,  0.0617, -0.0225,  0.0475,  0.0805,  0.0095, -0.0021,\n",
      "        -0.0815, -0.0310,  0.0797, -0.0664, -0.0763,  0.0840,  0.0087,  0.0734,\n",
      "        -0.0043,  0.0368,  0.0512, -0.0601,  0.0076,  0.0554,  0.0535,  0.0110],\n",
      "       requires_grad=True)\n",
      "Parameter containing:\n",
      "tensor([[ 0.1089,  0.1157, -0.1067, -0.0943,  0.0501, -0.0496, -0.0355, -0.0294,\n",
      "         -0.0209, -0.0576,  0.0733, -0.1160,  0.0279, -0.0742,  0.0534, -0.0006,\n",
      "         -0.0940, -0.0737,  0.0243,  0.0550, -0.0868, -0.0319, -0.0581, -0.0782,\n",
      "          0.0507,  0.1144,  0.1134, -0.0609, -0.0485,  0.0431,  0.0688, -0.0867,\n",
      "          0.1189, -0.0056,  0.0495,  0.0183, -0.0442,  0.0313, -0.1145,  0.1014,\n",
      "         -0.0532, -0.0029, -0.1139,  0.0665,  0.0354,  0.1188, -0.0695,  0.0090,\n",
      "         -0.0932,  0.0256,  0.0408,  0.0634, -0.0419,  0.1073, -0.0703, -0.0573,\n",
      "          0.0845,  0.0873,  0.1185, -0.0410, -0.0346, -0.0894, -0.0377,  0.0526],\n",
      "        [-0.0642,  0.1158, -0.0959,  0.0596, -0.0846,  0.0623,  0.0390, -0.0594,\n",
      "          0.0072, -0.0386, -0.1161, -0.1204, -0.1120, -0.0603,  0.0955,  0.1087,\n",
      "          0.1138,  0.0134,  0.0419,  0.0287,  0.1211, -0.1159, -0.1169, -0.0545,\n",
      "          0.0614, -0.0734,  0.0123,  0.0448, -0.0967, -0.0177, -0.1151, -0.0312,\n",
      "         -0.1066,  0.0309, -0.1158, -0.0303,  0.0262,  0.0798,  0.1143,  0.0252,\n",
      "          0.1052,  0.0479,  0.0280, -0.0442, -0.0585,  0.0281, -0.0375,  0.0960,\n",
      "         -0.0217, -0.0249,  0.1034,  0.1116,  0.0047, -0.0190, -0.1056, -0.0022,\n",
      "         -0.0763,  0.0449, -0.0712,  0.0483,  0.0557,  0.0836, -0.0486,  0.0604],\n",
      "        [ 0.0731, -0.0282,  0.0133,  0.0035,  0.0012, -0.0134,  0.1023,  0.0704,\n",
      "          0.1248,  0.0809,  0.0345, -0.0072, -0.1091, -0.0124,  0.1184, -0.0865,\n",
      "          0.1179,  0.1112, -0.0284, -0.1089, -0.0128,  0.0464, -0.0007, -0.1238,\n",
      "          0.0961,  0.0938,  0.1031,  0.0629, -0.0456,  0.0811,  0.0904, -0.1222,\n",
      "          0.0113,  0.0556,  0.0550,  0.0319, -0.0673, -0.0769,  0.0967, -0.0868,\n",
      "         -0.0955,  0.0652,  0.1241,  0.0502,  0.0444, -0.0225,  0.0150,  0.1074,\n",
      "          0.0312,  0.0277,  0.1070, -0.0409,  0.0376,  0.0877, -0.0302, -0.0174,\n",
      "         -0.0096, -0.0128,  0.0885, -0.0526,  0.1183, -0.0142, -0.0962, -0.0133],\n",
      "        [ 0.0528, -0.0157, -0.0747,  0.0891,  0.0958,  0.0374,  0.1241,  0.0188,\n",
      "          0.0571, -0.0510, -0.0731, -0.0008, -0.0796, -0.0068, -0.0934, -0.1031,\n",
      "         -0.0622, -0.0340,  0.0497, -0.0905,  0.0681,  0.0713,  0.1149, -0.0412,\n",
      "         -0.0892,  0.0328, -0.0138, -0.1185,  0.0535, -0.0447,  0.0947, -0.0014,\n",
      "         -0.0037,  0.1242, -0.0188, -0.0031, -0.1144, -0.0838, -0.0685,  0.0802,\n",
      "          0.1231, -0.0187,  0.0936, -0.1201, -0.0491, -0.0490, -0.0329, -0.1132,\n",
      "          0.0999,  0.0441,  0.0789, -0.0700, -0.1039, -0.1236,  0.0715, -0.0723,\n",
      "         -0.0333, -0.1172,  0.1204,  0.0700, -0.0468,  0.0019,  0.0809,  0.0922],\n",
      "        [-0.1020, -0.1119, -0.0530, -0.0907,  0.0312,  0.0956, -0.0956, -0.0642,\n",
      "         -0.0115, -0.0638,  0.1187, -0.0348, -0.0568, -0.0811,  0.0629,  0.0990,\n",
      "          0.0140,  0.0236, -0.0053,  0.1199,  0.0943,  0.0247, -0.0958, -0.0268,\n",
      "         -0.0383,  0.1056, -0.0540, -0.0011,  0.0382,  0.1006, -0.1196,  0.1004,\n",
      "         -0.0058, -0.0282,  0.0863, -0.0482,  0.0373, -0.0324,  0.0118, -0.0688,\n",
      "         -0.0587, -0.0968, -0.1147, -0.0640, -0.1061,  0.0844, -0.0671, -0.0858,\n",
      "          0.0899, -0.0774,  0.0355,  0.0812,  0.0029,  0.0716,  0.0821, -0.1179,\n",
      "         -0.0921, -0.1186,  0.0536,  0.1096,  0.0805,  0.1223, -0.0150,  0.0789],\n",
      "        [-0.0518, -0.0008, -0.1076,  0.0278,  0.0112, -0.0635, -0.0438, -0.1129,\n",
      "         -0.0401, -0.0840, -0.1013,  0.1064,  0.1000,  0.0224, -0.0617, -0.0616,\n",
      "          0.0148, -0.0512, -0.0756, -0.0988, -0.0802, -0.1103, -0.0861,  0.0042,\n",
      "         -0.0672,  0.0634, -0.1088, -0.0069,  0.0528,  0.1112,  0.0708, -0.0884,\n",
      "         -0.0683,  0.0194,  0.0903, -0.0314,  0.0097,  0.0190,  0.0542,  0.0158,\n",
      "          0.0061,  0.0027,  0.0654,  0.0196, -0.1068,  0.0195, -0.1094, -0.0098,\n",
      "          0.1164, -0.0651,  0.0001,  0.0157,  0.0938, -0.1027, -0.0623,  0.0431,\n",
      "         -0.0616, -0.0128,  0.1144, -0.0363,  0.1214, -0.0546,  0.0370, -0.0949]],\n",
      "       requires_grad=True)\n",
      "Parameter containing:\n",
      "tensor([ 0.0384,  0.1187, -0.0664, -0.0764,  0.0766,  0.0757],\n",
      "       requires_grad=True)\n"
     ]
    }
   ],
   "source": [
    "params=list(model.parameters())\n",
    "for i in range(len(params)):\n",
    "    print(params[i])"
   ]
  },
  {
   "cell_type": "code",
   "execution_count": 104,
   "metadata": {},
   "outputs": [
    {
     "name": "stdout",
     "output_type": "stream",
     "text": [
      "Train Epoch: 0 | With h1 data |: [600/1200 (50%)]\tTrain Loss: 0.002986 | Train Acc: 0.167\n",
      "Train Epoch: 0 | With h2 data |: [1200/1200 (100%)]\tTrain Loss: 0.002984 | Train Acc: 0.173\n",
      "Train Epoch: 1 | With h1 data |: [600/1200 (50%)]\tTrain Loss: 0.002969 | Train Acc: 0.213\n",
      "Train Epoch: 1 | With h2 data |: [1200/1200 (100%)]\tTrain Loss: 0.002964 | Train Acc: 0.188\n",
      "Train Epoch: 2 | With h1 data |: [600/1200 (50%)]\tTrain Loss: 0.003042 | Train Acc: 0.167\n",
      "Train Epoch: 2 | With h2 data |: [1200/1200 (100%)]\tTrain Loss: 0.002987 | Train Acc: 0.197\n",
      "Train Epoch: 3 | With h1 data |: [600/1200 (50%)]\tTrain Loss: 0.002959 | Train Acc: 0.187\n",
      "Train Epoch: 3 | With h2 data |: [1200/1200 (100%)]\tTrain Loss: 0.002948 | Train Acc: 0.257\n",
      "Train Epoch: 4 | With h1 data |: [600/1200 (50%)]\tTrain Loss: 0.002932 | Train Acc: 0.242\n",
      "Train Epoch: 4 | With h2 data |: [1200/1200 (100%)]\tTrain Loss: 0.002992 | Train Acc: 0.175\n",
      "Train Epoch: 5 | With h1 data |: [600/1200 (50%)]\tTrain Loss: 0.002911 | Train Acc: 0.292\n",
      "Train Epoch: 5 | With h2 data |: [1200/1200 (100%)]\tTrain Loss: 0.002969 | Train Acc: 0.197\n",
      "Train Epoch: 6 | With h1 data |: [600/1200 (50%)]\tTrain Loss: 0.002938 | Train Acc: 0.215\n",
      "Train Epoch: 6 | With h2 data |: [1200/1200 (100%)]\tTrain Loss: 0.002963 | Train Acc: 0.210\n",
      "Train Epoch: 7 | With h1 data |: [600/1200 (50%)]\tTrain Loss: 0.002933 | Train Acc: 0.217\n",
      "Train Epoch: 7 | With h2 data |: [1200/1200 (100%)]\tTrain Loss: 0.002952 | Train Acc: 0.212\n",
      "Train Epoch: 8 | With h1 data |: [600/1200 (50%)]\tTrain Loss: 0.002916 | Train Acc: 0.225\n",
      "Train Epoch: 8 | With h2 data |: [1200/1200 (100%)]\tTrain Loss: 0.002938 | Train Acc: 0.232\n",
      "Train Epoch: 9 | With h1 data |: [600/1200 (50%)]\tTrain Loss: 0.002916 | Train Acc: 0.262\n",
      "Train Epoch: 9 | With h2 data |: [1200/1200 (100%)]\tTrain Loss: 0.002923 | Train Acc: 0.268\n",
      "Train Epoch: 10 | With h1 data |: [600/1200 (50%)]\tTrain Loss: 0.002919 | Train Acc: 0.237\n",
      "Train Epoch: 10 | With h2 data |: [1200/1200 (100%)]\tTrain Loss: 0.002914 | Train Acc: 0.280\n",
      "Train Epoch: 11 | With h1 data |: [600/1200 (50%)]\tTrain Loss: 0.002907 | Train Acc: 0.253\n",
      "Train Epoch: 11 | With h2 data |: [1200/1200 (100%)]\tTrain Loss: 0.002903 | Train Acc: 0.287\n",
      "Train Epoch: 12 | With h1 data |: [600/1200 (50%)]\tTrain Loss: 0.002897 | Train Acc: 0.260\n",
      "Train Epoch: 12 | With h2 data |: [1200/1200 (100%)]\tTrain Loss: 0.002898 | Train Acc: 0.280\n",
      "Train Epoch: 13 | With h1 data |: [600/1200 (50%)]\tTrain Loss: 0.002899 | Train Acc: 0.247\n",
      "Train Epoch: 13 | With h2 data |: [1200/1200 (100%)]\tTrain Loss: 0.002895 | Train Acc: 0.280\n",
      "Train Epoch: 14 | With h1 data |: [600/1200 (50%)]\tTrain Loss: 0.002889 | Train Acc: 0.265\n",
      "Train Epoch: 14 | With h2 data |: [1200/1200 (100%)]\tTrain Loss: 0.002889 | Train Acc: 0.273\n",
      "Train Epoch: 15 | With h1 data |: [600/1200 (50%)]\tTrain Loss: 0.002891 | Train Acc: 0.263\n",
      "Train Epoch: 15 | With h2 data |: [1200/1200 (100%)]\tTrain Loss: 0.002883 | Train Acc: 0.287\n",
      "Train Epoch: 16 | With h1 data |: [600/1200 (50%)]\tTrain Loss: 0.002877 | Train Acc: 0.275\n",
      "Train Epoch: 16 | With h2 data |: [1200/1200 (100%)]\tTrain Loss: 0.002885 | Train Acc: 0.297\n",
      "Train Epoch: 17 | With h1 data |: [600/1200 (50%)]\tTrain Loss: 0.002864 | Train Acc: 0.300\n",
      "Train Epoch: 17 | With h2 data |: [1200/1200 (100%)]\tTrain Loss: 0.002881 | Train Acc: 0.302\n",
      "Train Epoch: 18 | With h1 data |: [600/1200 (50%)]\tTrain Loss: 0.002861 | Train Acc: 0.295\n",
      "Train Epoch: 18 | With h2 data |: [1200/1200 (100%)]\tTrain Loss: 0.002877 | Train Acc: 0.313\n",
      "Train Epoch: 19 | With h1 data |: [600/1200 (50%)]\tTrain Loss: 0.002859 | Train Acc: 0.298\n",
      "Train Epoch: 19 | With h2 data |: [1200/1200 (100%)]\tTrain Loss: 0.002872 | Train Acc: 0.298\n"
     ]
    }
   ],
   "source": [
    "N_EPOCS = 20\n",
    "SAVE_MODEL = True\n",
    "SAVE_MODEL_PATH = './models'\n",
    "\n",
    "def train(epoch):\n",
    "    model.train()\n",
    "    epoch_total = epoch_total_size(data)\n",
    "    current_epoch_size = 0\n",
    "    for i in range(len(data)):\n",
    "        correct = 0\n",
    "        for j in range(len(data[i])):\n",
    "            epoch_loss = 0.0\n",
    "            epoch_acc = 0.0\n",
    "            \n",
    "            current_epoch_size += len(data[i][j])\n",
    "            worker = data[i][j].location\n",
    "            model.send(worker)\n",
    "            \n",
    "            #Call the optimizer for the worker using get_optim\n",
    "            opt = optims.get_optim(data[i][j].location.id)\n",
    "            \n",
    "            opt.zero_grad()\n",
    "            pred = model(data[i][j])\n",
    "            loss = F.cross_entropy(pred, target[i][j])\n",
    "            loss.backward()\n",
    "            opt.step()\n",
    "            \n",
    "            # statistics\n",
    "            #prob = F.softmax(pred, dim=1)\n",
    "            top1 = torch.argmax(pred, dim=1)\n",
    "            ncorrect = torch.sum(top1 == target[i][j])\n",
    "            \n",
    "            # Get back loss\n",
    "            loss = loss.get()\n",
    "            ncorrect = ncorrect.get()\n",
    "            \n",
    "            epoch_loss += loss.item()\n",
    "            epoch_acc += ncorrect.item()\n",
    "\n",
    "            epoch_loss /= target[i][j].shape[0]\n",
    "            epoch_acc /= target[i][j].shape[0]\n",
    "\n",
    "            model.get()\n",
    "            \n",
    "            print('Train Epoch: {} | With {} data |: [{}/{} ({:.0f}%)]\\tTrain Loss: {:.6f} | Train Acc: {:.3f}'.format(\n",
    "                      epoch, worker.id, current_epoch_size, epoch_total,\n",
    "                            100. *  current_epoch_size / epoch_total, epoch_loss, epoch_acc))\n",
    "\n",
    "for epoch in range(N_EPOCS):\n",
    "    train(epoch)"
   ]
  },
  {
   "cell_type": "markdown",
   "metadata": {},
   "source": [
    "# TODO Next: \n",
    "1. Work on aggregating the weights\n",
    "-> refer - [this](https://github.com/OpenMined/PySyft/blob/master/examples/tutorials/Part%2010%20-%20Federated%20Learning%20with%20Secure%20Aggregation.ipynb)\n",
    "2. Validate on test/validation set\n",
    "3. Add F1, precision, recall metrics\n",
    "4. Figure out remote execution. Connect using vpn, and test all above remotely.\n",
    "5. Change network config (add dropouts!)\n",
    "6. Train asynchronously(using pysyft plans), and not sequentially\n",
    "7. Create the same flow for regression / image based data"
   ]
  },
  {
   "cell_type": "code",
   "execution_count": null,
   "metadata": {},
   "outputs": [],
   "source": []
  }
 ],
 "metadata": {
  "kernelspec": {
   "display_name": "Python [conda env:pysyft_v028]",
   "language": "python",
   "name": "conda-env-pysyft_v028-py"
  },
  "language_info": {
   "codemirror_mode": {
    "name": "ipython",
    "version": 3
   },
   "file_extension": ".py",
   "mimetype": "text/x-python",
   "name": "python",
   "nbconvert_exporter": "python",
   "pygments_lexer": "ipython3",
   "version": "3.6.10"
  }
 },
 "nbformat": 4,
 "nbformat_minor": 2
}
