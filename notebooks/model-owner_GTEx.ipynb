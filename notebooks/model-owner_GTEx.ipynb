{
 "cells": [
  {
   "cell_type": "markdown",
   "metadata": {},
   "source": [
    "<h1>Federated Learning - GTEx_V8 Example</h1>\n",
    "<h2>Populate remote PyGrid nodes with labeled tensors </h2>\n",
    "In this notebook, we will train a model using federated approach.\n",
    "\n",
    "**NOTE:** At the time of running this notebook, we were running the grid components in background mode.  \n",
    "\n",
    "Components:\n",
    " - PyGrid Network (http://localhost:5000)\n",
    " - PyGrid Node h1 (http://localhost:3000)\n",
    " - PyGrid Node h2 (http://localhost:3001)\n",
    " \n",
    "Code implementation for this notebook has been referred from <a href=\"https://github.com/OpenMined/PySyft/blob/master/examples/tutorials/grid/federated_learning/mnist/Fed.Learning%20MNIST%20%5B%20Part-2%20%5D%20-%20Train%20a%20Model.ipynb\">Fed.Learning MNIST [ Part-2 ] - Train a Model</a> tutorial"
   ]
  },
  {
   "cell_type": "code",
   "execution_count": 1,
   "metadata": {},
   "outputs": [],
   "source": [
    "import syft as sy\n",
    "from syft.grid.public_grid import PublicGridNetwork\n",
    "import torch as th\n",
    "import torch.nn as nn\n",
    "import torch.optim as optim\n",
    "import torch.nn.functional as F\n",
    "import torch\n",
    "from syft.federated.floptimizer import Optims"
   ]
  },
  {
   "cell_type": "markdown",
   "metadata": {},
   "source": [
    "### Parameter Cell -->"
   ]
  },
  {
   "cell_type": "code",
   "execution_count": 1,
   "metadata": {},
   "outputs": [],
   "source": [
    "GRID_ADDRESS = '0.0.0.0'\n",
    "GRID_PORT = '5000'\n",
    "N_EPOCS = 20\n",
    "SAVE_MODEL = True\n",
    "SAVE_MODEL_PATH = './models'"
   ]
  },
  {
   "cell_type": "code",
   "execution_count": 2,
   "metadata": {},
   "outputs": [],
   "source": [
    "hook = sy.TorchHook(th)"
   ]
  },
  {
   "cell_type": "code",
   "execution_count": 3,
   "metadata": {},
   "outputs": [],
   "source": [
    "\n",
    "class Net(nn.Module):\n",
    "    def __init__(self):\n",
    "        super(Net, self).__init__()\n",
    "        \n",
    "        self.fc1 = nn.Linear(18420, 256)\n",
    "        self.fc2 = nn.Linear(256, 128)\n",
    "        self.fc3 = nn.Linear(128, 64)\n",
    "        self.fc4 = nn.Linear(64, 6)\n",
    "\n",
    "    def forward(self, x):\n",
    "        # make sure input tensor is flattened\n",
    "        x = x.view(x.shape[0], -1)\n",
    "        \n",
    "        x = F.relu(self.fc1(x))\n",
    "        x = F.relu(self.fc2(x))\n",
    "        x = F.relu(self.fc3(x))\n",
    "        x = F.softmax(self.fc4(x), dim=1)\n",
    "        return x\n",
    "\n",
    "\n",
    "device = th.device(\"cuda:0\" if th.cuda.is_available() else \"cpu\")\n",
    "\n",
    "if(th.cuda.is_available()):\n",
    "    th.set_default_tensor_type(th.cuda.FloatTensor)\n",
    "    \n",
    "# model = Net()\n",
    "# model.to(device)\n",
    "# optimizer = optim.SGD(model.parameters(), lr=0.01)\n",
    "# criterion = nn.CrossEntropyLoss()\n",
    "\n",
    "model = Net()\n",
    "model.to(device)\n",
    "workers = ['h1', 'h2']\n",
    "optims = Optims(workers, optim=optim.Adam(params=model.parameters(),lr=0.003))\n",
    "# criterion = nn.CrossEntropyLoss()"
   ]
  },
  {
   "cell_type": "code",
   "execution_count": 4,
   "metadata": {},
   "outputs": [],
   "source": [
    "my_grid = PublicGridNetwork(hook,\"http://\" + GRID_ADDRESS + \":\" + GRID_PORT)"
   ]
  },
  {
   "cell_type": "code",
   "execution_count": 5,
   "metadata": {},
   "outputs": [
    {
     "data": {
      "text/plain": [
       "<syft.grid.public_grid.PublicGridNetwork at 0x158421610>"
      ]
     },
     "execution_count": 5,
     "metadata": {},
     "output_type": "execute_result"
    }
   ],
   "source": [
    "my_grid"
   ]
  },
  {
   "cell_type": "code",
   "execution_count": 6,
   "metadata": {},
   "outputs": [],
   "source": [
    "data = my_grid.search(\"#X\", \"#gtex_v8\", \"#dataset\")\n",
    "target = my_grid.search(\"#Y\", \"#gtex_v8\", \"#dataset\")"
   ]
  },
  {
   "cell_type": "code",
   "execution_count": 7,
   "metadata": {},
   "outputs": [
    {
     "data": {
      "text/plain": [
       "dict_keys(['h1', 'h2'])"
      ]
     },
     "execution_count": 7,
     "metadata": {},
     "output_type": "execute_result"
    }
   ],
   "source": [
    "data.keys()"
   ]
  },
  {
   "cell_type": "code",
   "execution_count": 8,
   "metadata": {},
   "outputs": [
    {
     "data": {
      "text/plain": [
       "{'h1': [(Wrapper)>[PointerTensor | me:75314703439 -> h1:93296785878]\n",
       "  \tTags: #gtex_v8 #balanced #Y #dataset \n",
       "  \tShape: torch.Size([600])\n",
       "  \tDescription: The input labels to the GTEx_V8 dataset....],\n",
       " 'h2': [(Wrapper)>[PointerTensor | me:38129987735 -> h2:6753975204]\n",
       "  \tTags: #gtex_v8 #balanced #Y #dataset \n",
       "  \tShape: torch.Size([600])\n",
       "  \tDescription: The input labels to the GTEx_V8 dataset....]}"
      ]
     },
     "execution_count": 8,
     "metadata": {},
     "output_type": "execute_result"
    }
   ],
   "source": [
    "target"
   ]
  },
  {
   "cell_type": "code",
   "execution_count": 9,
   "metadata": {},
   "outputs": [],
   "source": [
    "data = list(data.values())\n",
    "target = list(target.values())"
   ]
  },
  {
   "cell_type": "code",
   "execution_count": 10,
   "metadata": {},
   "outputs": [
    {
     "data": {
      "text/plain": [
       "(1, 600)"
      ]
     },
     "execution_count": 10,
     "metadata": {},
     "output_type": "execute_result"
    }
   ],
   "source": [
    "len(data[1]), len(data[0][0])"
   ]
  },
  {
   "cell_type": "code",
   "execution_count": 11,
   "metadata": {},
   "outputs": [],
   "source": [
    "def epoch_total_size(data):\n",
    "    total = 0\n",
    "    for i in range(len(data)):\n",
    "        for j in range(len(data[i])):\n",
    "            total += data[i][j].shape[0]\n",
    "            \n",
    "    return total"
   ]
  },
  {
   "cell_type": "code",
   "execution_count": 12,
   "metadata": {},
   "outputs": [
    {
     "data": {
      "text/plain": [
       "(<Federated Worker id:h1>, <Federated Worker id:h2>)"
      ]
     },
     "execution_count": 12,
     "metadata": {},
     "output_type": "execute_result"
    }
   ],
   "source": [
    "data[0][0].location, data[1][0].location"
   ]
  },
  {
   "cell_type": "code",
   "execution_count": 13,
   "metadata": {},
   "outputs": [],
   "source": [
    "params=list(model.parameters())\n",
    "# for i in range(len(params)):\n",
    "#     print(params[i])"
   ]
  },
  {
   "cell_type": "code",
   "execution_count": 14,
   "metadata": {},
   "outputs": [
    {
     "name": "stdout",
     "output_type": "stream",
     "text": [
      "Train Epoch: 0 | With h1 data |: [600/1200 (50%)]\tTrain Loss: 0.002987 | Train Acc: 0.167\n",
      "Train Epoch: 0 | With h2 data |: [1200/1200 (100%)]\tTrain Loss: 0.002986 | Train Acc: 0.197\n",
      "Train Epoch: 1 | With h1 data |: [600/1200 (50%)]\tTrain Loss: 0.002980 | Train Acc: 0.170\n",
      "Train Epoch: 1 | With h2 data |: [1200/1200 (100%)]\tTrain Loss: 0.002985 | Train Acc: 0.183\n",
      "Train Epoch: 2 | With h1 data |: [600/1200 (50%)]\tTrain Loss: 0.003001 | Train Acc: 0.180\n",
      "Train Epoch: 2 | With h2 data |: [1200/1200 (100%)]\tTrain Loss: 0.003009 | Train Acc: 0.185\n",
      "Train Epoch: 3 | With h1 data |: [600/1200 (50%)]\tTrain Loss: 0.002993 | Train Acc: 0.172\n",
      "Train Epoch: 3 | With h2 data |: [1200/1200 (100%)]\tTrain Loss: 0.002952 | Train Acc: 0.233\n",
      "Train Epoch: 4 | With h1 data |: [600/1200 (50%)]\tTrain Loss: 0.003001 | Train Acc: 0.177\n",
      "Train Epoch: 4 | With h2 data |: [1200/1200 (100%)]\tTrain Loss: 0.002951 | Train Acc: 0.197\n",
      "Train Epoch: 5 | With h1 data |: [600/1200 (50%)]\tTrain Loss: 0.002989 | Train Acc: 0.182\n",
      "Train Epoch: 5 | With h2 data |: [1200/1200 (100%)]\tTrain Loss: 0.002947 | Train Acc: 0.215\n",
      "Train Epoch: 6 | With h1 data |: [600/1200 (50%)]\tTrain Loss: 0.002969 | Train Acc: 0.202\n",
      "Train Epoch: 6 | With h2 data |: [1200/1200 (100%)]\tTrain Loss: 0.002968 | Train Acc: 0.195\n",
      "Train Epoch: 7 | With h1 data |: [600/1200 (50%)]\tTrain Loss: 0.002943 | Train Acc: 0.228\n",
      "Train Epoch: 7 | With h2 data |: [1200/1200 (100%)]\tTrain Loss: 0.002968 | Train Acc: 0.197\n",
      "Train Epoch: 8 | With h1 data |: [600/1200 (50%)]\tTrain Loss: 0.002936 | Train Acc: 0.212\n",
      "Train Epoch: 8 | With h2 data |: [1200/1200 (100%)]\tTrain Loss: 0.002950 | Train Acc: 0.243\n",
      "Train Epoch: 9 | With h1 data |: [600/1200 (50%)]\tTrain Loss: 0.002929 | Train Acc: 0.227\n",
      "Train Epoch: 9 | With h2 data |: [1200/1200 (100%)]\tTrain Loss: 0.002936 | Train Acc: 0.252\n",
      "Train Epoch: 10 | With h1 data |: [600/1200 (50%)]\tTrain Loss: 0.002943 | Train Acc: 0.227\n",
      "Train Epoch: 10 | With h2 data |: [1200/1200 (100%)]\tTrain Loss: 0.002931 | Train Acc: 0.263\n",
      "Train Epoch: 11 | With h1 data |: [600/1200 (50%)]\tTrain Loss: 0.002936 | Train Acc: 0.237\n",
      "Train Epoch: 11 | With h2 data |: [1200/1200 (100%)]\tTrain Loss: 0.002928 | Train Acc: 0.265\n",
      "Train Epoch: 12 | With h1 data |: [600/1200 (50%)]\tTrain Loss: 0.002931 | Train Acc: 0.243\n",
      "Train Epoch: 12 | With h2 data |: [1200/1200 (100%)]\tTrain Loss: 0.002923 | Train Acc: 0.248\n",
      "Train Epoch: 13 | With h1 data |: [600/1200 (50%)]\tTrain Loss: 0.002927 | Train Acc: 0.252\n",
      "Train Epoch: 13 | With h2 data |: [1200/1200 (100%)]\tTrain Loss: 0.002913 | Train Acc: 0.247\n",
      "Train Epoch: 14 | With h1 data |: [600/1200 (50%)]\tTrain Loss: 0.002921 | Train Acc: 0.258\n",
      "Train Epoch: 14 | With h2 data |: [1200/1200 (100%)]\tTrain Loss: 0.002903 | Train Acc: 0.275\n",
      "Train Epoch: 15 | With h1 data |: [600/1200 (50%)]\tTrain Loss: 0.002908 | Train Acc: 0.282\n",
      "Train Epoch: 15 | With h2 data |: [1200/1200 (100%)]\tTrain Loss: 0.002902 | Train Acc: 0.272\n",
      "Train Epoch: 16 | With h1 data |: [600/1200 (50%)]\tTrain Loss: 0.002902 | Train Acc: 0.270\n",
      "Train Epoch: 16 | With h2 data |: [1200/1200 (100%)]\tTrain Loss: 0.002897 | Train Acc: 0.282\n",
      "Train Epoch: 17 | With h1 data |: [600/1200 (50%)]\tTrain Loss: 0.002879 | Train Acc: 0.297\n",
      "Train Epoch: 17 | With h2 data |: [1200/1200 (100%)]\tTrain Loss: 0.002893 | Train Acc: 0.277\n",
      "Train Epoch: 18 | With h1 data |: [600/1200 (50%)]\tTrain Loss: 0.002864 | Train Acc: 0.310\n",
      "Train Epoch: 18 | With h2 data |: [1200/1200 (100%)]\tTrain Loss: 0.002890 | Train Acc: 0.277\n",
      "Train Epoch: 19 | With h1 data |: [600/1200 (50%)]\tTrain Loss: 0.002867 | Train Acc: 0.290\n",
      "Train Epoch: 19 | With h2 data |: [1200/1200 (100%)]\tTrain Loss: 0.002882 | Train Acc: 0.283\n"
     ]
    }
   ],
   "source": [
    "def train(epoch):\n",
    "    model.train()\n",
    "    epoch_total = epoch_total_size(data)\n",
    "    current_epoch_size = 0\n",
    "    for i in range(len(data)):\n",
    "        correct = 0\n",
    "        for j in range(len(data[i])):\n",
    "            epoch_loss = 0.0\n",
    "            epoch_acc = 0.0\n",
    "            \n",
    "            current_epoch_size += len(data[i][j])\n",
    "            worker = data[i][j].location\n",
    "            model.send(worker)\n",
    "            \n",
    "            #Call the optimizer for the worker using get_optim\n",
    "            opt = optims.get_optim(data[i][j].location.id)\n",
    "            \n",
    "            opt.zero_grad()\n",
    "            pred = model(data[i][j])\n",
    "            loss = F.cross_entropy(pred, target[i][j])\n",
    "            loss.backward()\n",
    "            opt.step()\n",
    "            \n",
    "            # statistics\n",
    "            #prob = F.softmax(pred, dim=1)\n",
    "            top1 = torch.argmax(pred, dim=1)\n",
    "            ncorrect = torch.sum(top1 == target[i][j])\n",
    "            \n",
    "            # Get back loss\n",
    "            loss = loss.get()\n",
    "            ncorrect = ncorrect.get()\n",
    "            \n",
    "            epoch_loss += loss.item()\n",
    "            epoch_acc += ncorrect.item()\n",
    "\n",
    "            epoch_loss /= target[i][j].shape[0]\n",
    "            epoch_acc /= target[i][j].shape[0]\n",
    "\n",
    "            model.get()\n",
    "            \n",
    "            print('Train Epoch: {} | With {} data |: [{}/{} ({:.0f}%)]\\tTrain Loss: {:.6f} | Train Acc: {:.3f}'.format(\n",
    "                      epoch, worker.id, current_epoch_size, epoch_total,\n",
    "                            100. *  current_epoch_size / epoch_total, epoch_loss, epoch_acc))\n",
    "\n",
    "for epoch in range(N_EPOCS):\n",
    "    train(epoch)"
   ]
  }
 ],
 "metadata": {
  "kernelspec": {
   "display_name": "Python [conda env:pysyft_v028] *",
   "language": "python",
   "name": "conda-env-pysyft_v028-py"
  },
  "language_info": {
   "codemirror_mode": {
    "name": "ipython",
    "version": 3
   },
   "file_extension": ".py",
   "mimetype": "text/x-python",
   "name": "python",
   "nbconvert_exporter": "python",
   "pygments_lexer": "ipython3",
   "version": "3.7.9"
  }
 },
 "nbformat": 4,
 "nbformat_minor": 4
}
