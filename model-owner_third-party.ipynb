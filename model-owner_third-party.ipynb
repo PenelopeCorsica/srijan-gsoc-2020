{
 "cells": [
  {
   "cell_type": "code",
   "execution_count": 1,
   "metadata": {},
   "outputs": [],
   "source": [
    "import syft as sy\n",
    "import torch as th\n",
    "from syft.grid.public_grid import PublicGridNetwork\n",
    "hook = sy.TorchHook(th)"
   ]
  },
  {
   "cell_type": "code",
   "execution_count": 2,
   "metadata": {},
   "outputs": [],
   "source": [
    "# For remote execution -->"
   ]
  },
  {
   "cell_type": "code",
   "execution_count": 3,
   "metadata": {},
   "outputs": [],
   "source": [
    "grid = PublicGridNetwork(hook, \"http://localhost:5000\")"
   ]
  },
  {
   "cell_type": "code",
   "execution_count": 4,
   "metadata": {},
   "outputs": [
    {
     "data": {
      "text/plain": [
       "<syft.grid.public_grid.PublicGridNetwork at 0x1222e2b50>"
      ]
     },
     "execution_count": 4,
     "metadata": {},
     "output_type": "execute_result"
    }
   ],
   "source": [
    "grid"
   ]
  },
  {
   "cell_type": "code",
   "execution_count": 5,
   "metadata": {},
   "outputs": [
    {
     "data": {
      "text/plain": [
       "{'h2': [(Wrapper)>[PointerTensor | me:34756346326 -> h2:24017705676]\n",
       "  \tTags: #diabetes #age-related \n",
       "  \tShape: torch.Size([3, 3])\n",
       "  \tDescription: Description:...],\n",
       " 'h1': [(Wrapper)>[PointerTensor | me:67097845422 -> h1:47483362958]\n",
       "  \tTags: #birth-records #age-related \n",
       "  \tShape: torch.Size([5, 3])\n",
       "  \tDescription: Description:...]}"
      ]
     },
     "execution_count": 5,
     "metadata": {},
     "output_type": "execute_result"
    }
   ],
   "source": [
    "results = grid.search(\"#age-related\")\n",
    "results"
   ]
  },
  {
   "cell_type": "code",
   "execution_count": 6,
   "metadata": {},
   "outputs": [],
   "source": [
    "records = results['h1'][0]"
   ]
  },
  {
   "cell_type": "code",
   "execution_count": 7,
   "metadata": {},
   "outputs": [
    {
     "name": "stdout",
     "output_type": "stream",
     "text": [
      "Description:\n",
      "                        This dataset represents the birth records for the month of February.\n",
      "                        The data is arranged in the following format:\n",
      "                        \n",
      "                        Columns:\n",
      "                            Gender: 0-Male, 1-Female\n",
      "                            Weight (Kilograms): Float value\n",
      "                            Height (centimeters): Float value\n",
      "                            \n",
      "                        Shape: (5 X 3)\n"
     ]
    }
   ],
   "source": [
    "print(records.description)"
   ]
  },
  {
   "cell_type": "code",
   "execution_count": 8,
   "metadata": {},
   "outputs": [
    {
     "name": "stdout",
     "output_type": "stream",
     "text": [
      "Description:\n",
      "                        This dataset represents data for diabetes patients.\n",
      "                        The data is arranged in the following format:\n",
      "                        \n",
      "                        Columns:\n",
      "                            Gender: 0-Male, 1-Female\n",
      "                            Weight (Kilograms): Float value\n",
      "                            Height (centimeters): Float value\n",
      "                            \n",
      "                        Shape: (5 X 3)\n"
     ]
    }
   ],
   "source": [
    "records = results['h2'][0]\n",
    "print(records.description)"
   ]
  },
  {
   "cell_type": "code",
   "execution_count": 9,
   "metadata": {},
   "outputs": [],
   "source": [
    "def sum_column(dataset, column):\n",
    "    sum_result = dataset[0][column].copy()\n",
    "    for i in range(1,dataset.shape[0]):\n",
    "        sum_result += dataset[i][column]\n",
    "    return sum_result"
   ]
  },
  {
   "cell_type": "code",
   "execution_count": 10,
   "metadata": {},
   "outputs": [
    {
     "data": {
      "text/plain": [
       "(Wrapper)>[PointerTensor | me:10892580209 -> h2:99955270407]"
      ]
     },
     "execution_count": 10,
     "metadata": {},
     "output_type": "execute_result"
    }
   ],
   "source": [
    "weight_sum = sum_column(records, 1)\n",
    "weight_sum"
   ]
  },
  {
   "cell_type": "code",
   "execution_count": 11,
   "metadata": {},
   "outputs": [
    {
     "data": {
      "text/plain": [
       "(Wrapper)>[PointerTensor | me:23873923085 -> h2:41974892570]"
      ]
     },
     "execution_count": 11,
     "metadata": {},
     "output_type": "execute_result"
    }
   ],
   "source": [
    "height_sum = sum_column(records, 2)\n",
    "height_sum"
   ]
  },
  {
   "cell_type": "code",
   "execution_count": 12,
   "metadata": {},
   "outputs": [
    {
     "data": {
      "text/plain": [
       "tensor(2.2200)"
      ]
     },
     "execution_count": 12,
     "metadata": {},
     "output_type": "execute_result"
    }
   ],
   "source": [
    "avg_weight = weight_sum.get()/5\n",
    "avg_weight"
   ]
  },
  {
   "cell_type": "code",
   "execution_count": 13,
   "metadata": {},
   "outputs": [
    {
     "data": {
      "text/plain": [
       "tensor(29.0800)"
      ]
     },
     "execution_count": 13,
     "metadata": {},
     "output_type": "execute_result"
    }
   ],
   "source": [
    "avg_height = height_sum.get()/5\n",
    "avg_height"
   ]
  },
  {
   "cell_type": "code",
   "execution_count": 14,
   "metadata": {},
   "outputs": [
    {
     "data": {
      "text/plain": [
       "tensor([[ 1.0000,  3.5000, 47.3000],\n",
       "        [ 0.0000,  3.7000, 48.1000],\n",
       "        [ 0.0000,  3.9000, 50.0000]])\n",
       "\tTags: #diabetes #age-related \n",
       "\tDescription: Description:...\n",
       "\tShape: torch.Size([3, 3])"
      ]
     },
     "execution_count": 14,
     "metadata": {},
     "output_type": "execute_result"
    }
   ],
   "source": [
    "records.get()"
   ]
  },
  {
   "cell_type": "code",
   "execution_count": null,
   "metadata": {},
   "outputs": [],
   "source": []
  }
 ],
 "metadata": {
  "kernelspec": {
   "display_name": "Python [conda env:pysyft]",
   "language": "python",
   "name": "conda-env-pysyft-py"
  },
  "language_info": {
   "codemirror_mode": {
    "name": "ipython",
    "version": 3
   },
   "file_extension": ".py",
   "mimetype": "text/x-python",
   "name": "python",
   "nbconvert_exporter": "python",
   "pygments_lexer": "ipython3",
   "version": "3.7.4"
  }
 },
 "nbformat": 4,
 "nbformat_minor": 2
}
